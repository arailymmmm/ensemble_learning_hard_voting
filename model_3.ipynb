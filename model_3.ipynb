{
  "cells": [
    {
      "cell_type": "code",
      "execution_count": null,
      "id": "9e3dbf4b",
      "metadata": {
        "_cell_guid": "b1076dfc-b9ad-4769-8c92-a6c4dae69d19",
        "_uuid": "8f2839f25d086af736a60e9eeb907d3b93b6e0e5",
        "papermill": {
          "duration": 4.948232,
          "end_time": "2023-02-15T21:22:18.266583",
          "exception": false,
          "start_time": "2023-02-15T21:22:13.318351",
          "status": "completed"
        },
        "tags": [],
        "id": "9e3dbf4b"
      },
      "outputs": [],
      "source": [
        "import tensorflow as tf\n",
        "from tqdm import tqdm\n",
        "import numpy as np\n",
        "from tensorflow import keras\n",
        "import pandas as pd\n",
        "from itertools import combinations\n",
        "from tqdm import tqdm\n",
        "from keras import backend as K"
      ]
    },
    {
      "cell_type": "code",
      "execution_count": null,
      "id": "5488bfb7-c8d6-404e-a275-43b42eaaf0ef",
      "metadata": {
        "id": "5488bfb7-c8d6-404e-a275-43b42eaaf0ef"
      },
      "outputs": [],
      "source": [
        "one_hot = tf.keras.layers.CategoryEncoding(num_tokens=5, output_mode=\"one_hot\")\n",
        "\n",
        "def precision(y_true, y_pred):\n",
        "\n",
        "    y_true = one_hot(y_true)\n",
        "    true_positives = K.sum(K.round(K.clip(y_true * y_pred, 0, 1)))\n",
        "    predicted_positives = K.sum(K.round(K.clip(y_pred, 0, 1)))\n",
        "    precision = true_positives / (predicted_positives + K.epsilon())\n",
        "    return precision\n",
        "\n",
        "def recall(y_true, y_pred):\n",
        "\n",
        "    y_true = one_hot(y_true)\n",
        "    true_positives = K.sum(K.round(K.clip(y_true * y_pred, 0, 1)))\n",
        "    possible_positives = K.sum(K.round(K.clip(y_true, 0, 1)))\n",
        "    recall = true_positives / (possible_positives + K.epsilon())\n",
        "    return recall\n",
        "\n",
        "\n",
        "def f1(y_true, y_pred):\n",
        "    prec = precision(y_true, y_pred)\n",
        "    rec = recall(y_true, y_pred)\n",
        "    return 2*((prec*rec)/(prec+rec+K.epsilon()))"
      ]
    },
    {
      "cell_type": "code",
      "execution_count": null,
      "id": "5dc50ed2",
      "metadata": {
        "papermill": {
          "duration": 6.177916,
          "end_time": "2023-02-15T21:22:24.447536",
          "exception": false,
          "start_time": "2023-02-15T21:22:18.269620",
          "status": "completed"
        },
        "tags": [],
        "id": "5dc50ed2",
        "outputId": "e5779c11-197e-4428-84b2-283ed544fb4a"
      },
      "outputs": [
        {
          "name": "stdout",
          "output_type": "stream",
          "text": [
            "Found 5250 files belonging to 5 classes.\n",
            "Found 1150 files belonging to 5 classes.\n",
            "Found 1125 files belonging to 5 classes.\n"
          ]
        }
      ],
      "source": [
        "validation_dir = '../5-7500-a/validation'\n",
        "\n",
        "test_dir = '../5-7500-a/test'\n",
        "\n",
        "train_dir = '../5-7500-a/train'\n",
        "\n",
        "BATCH_SIZE = 32\n",
        "IMG_SIZE = (224, 224)\n",
        "\n",
        "\n",
        "train_dataset = tf.keras.utils.image_dataset_from_directory(train_dir,\n",
        "                                                            shuffle=True,\n",
        "                                                            batch_size=BATCH_SIZE,\n",
        "                                                            image_size=IMG_SIZE)\n",
        "validation_dataset = tf.keras.utils.image_dataset_from_directory(validation_dir,\n",
        "                                                                 shuffle=True,\n",
        "                                                                 batch_size=BATCH_SIZE,\n",
        "                                                                 image_size=IMG_SIZE)\n",
        "test_dataset = tf.keras.utils.image_dataset_from_directory(test_dir,\n",
        "                                                                 shuffle=True,\n",
        "                                                                 batch_size=BATCH_SIZE,\n",
        "                                                                 image_size=IMG_SIZE)\n",
        "\n",
        "AUTOTUNE = tf.data.AUTOTUNE\n",
        "\n",
        "train_dataset = train_dataset.prefetch(buffer_size=AUTOTUNE)\n",
        "validation_dataset = validation_dataset.prefetch(buffer_size=AUTOTUNE)\n",
        "test_dataset = test_dataset.prefetch(buffer_size=AUTOTUNE)"
      ]
    },
    {
      "cell_type": "code",
      "execution_count": null,
      "id": "ab37dd1d",
      "metadata": {
        "papermill": {
          "duration": 22.337528,
          "end_time": "2023-02-15T21:22:46.841155",
          "exception": false,
          "start_time": "2023-02-15T21:22:24.503627",
          "status": "completed"
        },
        "tags": [],
        "id": "ab37dd1d"
      },
      "outputs": [],
      "source": [
        "Xception = tf.keras.models.load_model('./xception.h5')\n",
        "DenseNet121 = tf.keras.models.load_model('./densenet121.h5')\n",
        "VGG16 = tf.keras.models.load_model('./vgg16.h5')\n",
        "ResNet50V2 = tf.keras.models.load_model('./resnet_v2.h5')\n",
        "InceptionResNetV2 = tf.keras.models.load_model('./inception.h5')\n",
        "MobileNetV2 = tf.keras.models.load_model('./mobilenet.h5')\n",
        "EfficientNetB0 = tf.keras.models.load_model('./efficientnet.h5')\n",
        "\n",
        "Xception._name=\"Xception\"\n",
        "DenseNet121._name=\"DenseNet121\"\n",
        "VGG16._name=\"VGG16\"\n",
        "ResNet50V2._name = \"ResNet50V2\"\n",
        "InceptionResNetV2._name = \"InceptionResNetV2\"\n",
        "MobileNetV2._name = \"MobileNetV2\"\n",
        "EfficientNetB0._name = \"EfficientNetB0\""
      ]
    },
    {
      "cell_type": "code",
      "execution_count": null,
      "id": "80ef2869",
      "metadata": {
        "papermill": {
          "duration": 0.013668,
          "end_time": "2023-02-15T21:22:46.858532",
          "exception": false,
          "start_time": "2023-02-15T21:22:46.844864",
          "status": "completed"
        },
        "tags": [],
        "id": "80ef2869"
      },
      "outputs": [],
      "source": [
        "def create_hard_voting_ensemble(models):\n",
        "    inputs = tf.keras.Input(shape=(224, 224, 3))\n",
        "    models_outputs = []\n",
        "    for model in models:\n",
        "        models_outputs.append(model(inputs))\n",
        "    if len(models_outputs) > 1:\n",
        "        votes = [tf.equal(output, tf.reduce_max(output, axis=-1, keepdims=True)) for output in models_outputs] # get binary vectors, where 1 is for predicted class and other are zeros\n",
        "        stacked_votes = tf.cast(tf.stack(votes, axis=1), models_outputs[0].dtype) # stack predictions\n",
        "        voted_predictions = tf.reduce_sum(stacked_votes, axis=1)\n",
        "        outputs = voted_predictions\n",
        "    else:\n",
        "        outputs = models_outputs[0]\n",
        "    ansamble = keras.Model(inputs=inputs, outputs=outputs)\n",
        "\n",
        "    base_learning_rate = 0.001\n",
        "    ansamble.compile(optimizer=tf.keras.optimizers.Adam(learning_rate=base_learning_rate),\n",
        "                  loss=tf.keras.losses.sparse_categorical_crossentropy,\n",
        "                  metrics=['accuracy', precision, recall, f1])\n",
        "    return ansamble\n"
      ]
    },
    {
      "cell_type": "code",
      "execution_count": null,
      "id": "95c0a185-233d-4864-b23c-2e8b888ed565",
      "metadata": {
        "id": "95c0a185-233d-4864-b23c-2e8b888ed565"
      },
      "outputs": [],
      "source": [
        "#m = create_hard_voting_ensemble([Xception, MobileNetV2])\n",
        "#m.summary()"
      ]
    },
    {
      "cell_type": "code",
      "execution_count": null,
      "id": "fb42f971",
      "metadata": {
        "papermill": {
          "duration": 0.011426,
          "end_time": "2023-02-15T21:22:46.872615",
          "exception": false,
          "start_time": "2023-02-15T21:22:46.861189",
          "status": "completed"
        },
        "tags": [],
        "id": "fb42f971"
      },
      "outputs": [],
      "source": [
        "models = {'Xception': Xception, 'DenseNet121': DenseNet121, 'VGG16': VGG16, 'ResNet50V2': ResNet50V2, 'InceptionResNetV2': InceptionResNetV2,\n",
        "          'MobileNetV2': MobileNetV2, 'EfficientNetB0': EfficientNetB0}\n",
        "\n",
        "all_combs = []\n",
        "for i in range(1, len(models)):\n",
        "    all_combs.extend(list(combinations(models, i)))\n",
        "\n",
        "ansambles = {}\n",
        "for comb in all_combs:\n",
        "    ansambles['-'.join(comb)] = comb"
      ]
    },
    {
      "cell_type": "code",
      "execution_count": null,
      "id": "78fcde1c-8a0c-4245-b927-5e6db14709e0",
      "metadata": {
        "id": "78fcde1c-8a0c-4245-b927-5e6db14709e0",
        "outputId": "908d6725-4f53-42e8-aa61-596a0e7a9079"
      },
      "outputs": [
        {
          "name": "stdout",
          "output_type": "stream",
          "text": [
            "All combinations: 126\n"
          ]
        }
      ],
      "source": [
        "print(\"All combinations: {}\".format(len(ansambles)))"
      ]
    },
    {
      "cell_type": "code",
      "execution_count": null,
      "id": "46e2fd75",
      "metadata": {
        "papermill": {
          "duration": 20451.19719,
          "end_time": "2023-02-16T03:03:38.072364",
          "exception": false,
          "start_time": "2023-02-15T21:22:46.875174",
          "status": "completed"
        },
        "tags": [],
        "id": "46e2fd75",
        "outputId": "e5da8dfe-0d38-46cf-b4f9-05c5947416f3"
      },
      "outputs": [
        {
          "name": "stderr",
          "output_type": "stream",
          "text": [
            "0it [00:00, ?it/s]"
          ]
        },
        {
          "name": "stdout",
          "output_type": "stream",
          "text": [
            "36/36 [==============================] - 61s 1s/step - loss: 0.2491 - accuracy: 0.9351 - precision: 0.9430 - recall: 0.9314 - f1: 0.9371\n",
            "36/36 [==============================] - 44s 944ms/step - loss: 0.3785 - accuracy: 0.8617 - precision: 0.8739 - recall: 0.8497 - f1: 0.8614\n"
          ]
        },
        {
          "name": "stderr",
          "output_type": "stream",
          "text": [
            "1it [01:44, 104.89s/it]"
          ]
        },
        {
          "name": "stdout",
          "output_type": "stream",
          "text": [
            "36/36 [==============================] - 57s 1s/step - loss: 0.3067 - accuracy: 0.8764 - precision: 0.8924 - recall: 0.8707 - f1: 0.8812\n",
            "36/36 [==============================] - 44s 963ms/step - loss: 0.2046 - accuracy: 0.9270 - precision: 0.9384 - recall: 0.9235 - f1: 0.9307\n"
          ]
        },
        {
          "name": "stderr",
          "output_type": "stream",
          "text": [
            "2it [03:26, 103.05s/it]"
          ]
        },
        {
          "name": "stdout",
          "output_type": "stream",
          "text": [
            "36/36 [==============================] - 56s 1s/step - loss: 0.4832 - accuracy: 0.8649 - precision: 0.8708 - recall: 0.8663 - f1: 0.8685\n",
            "36/36 [==============================] - 46s 1s/step - loss: 0.4810 - accuracy: 0.9017 - precision: 0.9063 - recall: 0.8984 - f1: 0.9023\n"
          ]
        },
        {
          "name": "stderr",
          "output_type": "stream",
          "text": [
            "3it [05:08, 102.46s/it]"
          ]
        },
        {
          "name": "stdout",
          "output_type": "stream",
          "text": [
            "36/36 [==============================] - 55s 1s/step - loss: 0.4010 - accuracy: 0.8560 - precision: 0.8631 - recall: 0.8469 - f1: 0.8547\n",
            "36/36 [==============================] - 44s 949ms/step - loss: 0.2682 - accuracy: 0.9009 - precision: 0.9067 - recall: 0.8982 - f1: 0.9023\n"
          ]
        },
        {
          "name": "stderr",
          "output_type": "stream",
          "text": [
            "4it [06:48, 101.40s/it]"
          ]
        },
        {
          "name": "stdout",
          "output_type": "stream",
          "text": [
            "36/36 [==============================] - 61s 1s/step - loss: 0.5146 - accuracy: 0.8249 - precision: 0.8332 - recall: 0.8165 - f1: 0.8246\n",
            "36/36 [==============================] - 44s 965ms/step - loss: 0.3022 - accuracy: 0.9061 - precision: 0.9137 - recall: 0.8992 - f1: 0.9064\n"
          ]
        },
        {
          "name": "stderr",
          "output_type": "stream",
          "text": [
            "5it [08:35, 103.43s/it]"
          ]
        },
        {
          "name": "stdout",
          "output_type": "stream",
          "text": [
            "36/36 [==============================] - 54s 1s/step - loss: 0.1546 - accuracy: 0.9458 - precision: 0.9486 - recall: 0.9453 - f1: 0.9469\n",
            "36/36 [==============================] - 43s 927ms/step - loss: 0.2327 - accuracy: 0.9339 - precision: 0.9415 - recall: 0.9271 - f1: 0.9341\n"
          ]
        },
        {
          "name": "stderr",
          "output_type": "stream",
          "text": [
            "6it [10:13, 101.55s/it]"
          ]
        },
        {
          "name": "stdout",
          "output_type": "stream",
          "text": [
            "36/36 [==============================] - 56s 1s/step - loss: 0.2480 - accuracy: 0.9191 - precision: 0.9134 - recall: 0.9056 - f1: 0.9094\n",
            "36/36 [==============================] - 43s 937ms/step - loss: 0.2450 - accuracy: 0.9330 - precision: 0.9365 - recall: 0.9262 - f1: 0.9312\n"
          ]
        },
        {
          "name": "stderr",
          "output_type": "stream",
          "text": [
            "7it [11:53, 101.19s/it]"
          ]
        },
        {
          "name": "stdout",
          "output_type": "stream",
          "text": [
            "36/36 [==============================] - 59s 1s/step - loss: 0.6213 - accuracy: 0.9396 - precision: 0.8611 - recall: 0.9679 - f1: 0.9105\n",
            "36/36 [==============================] - 43s 924ms/step - loss: 0.7063 - accuracy: 0.8713 - precision: 0.8388 - recall: 0.9625 - f1: 0.8959\n"
          ]
        },
        {
          "name": "stderr",
          "output_type": "stream",
          "text": [
            "8it [13:36, 101.75s/it]"
          ]
        },
        {
          "name": "stdout",
          "output_type": "stream",
          "text": [
            "36/36 [==============================] - 55s 1s/step - loss: 0.5937 - accuracy: 0.8738 - precision: 0.8465 - recall: 0.9705 - f1: 0.9036\n",
            "36/36 [==============================] - 43s 927ms/step - loss: 0.8085 - accuracy: 0.8304 - precision: 0.8184 - recall: 0.9573 - f1: 0.8815\n"
          ]
        },
        {
          "name": "stderr",
          "output_type": "stream",
          "text": [
            "9it [15:14, 100.73s/it]"
          ]
        },
        {
          "name": "stdout",
          "output_type": "stream",
          "text": [
            "36/36 [==============================] - 56s 1s/step - loss: 0.7265 - accuracy: 0.9227 - precision: 0.8493 - recall: 0.9618 - f1: 0.9015\n",
            "36/36 [==============================] - 43s 921ms/step - loss: 0.8385 - accuracy: 0.8678 - precision: 0.8281 - recall: 0.9548 - f1: 0.8861\n"
          ]
        },
        {
          "name": "stderr",
          "output_type": "stream",
          "text": [
            "10it [16:54, 100.33s/it]"
          ]
        },
        {
          "name": "stdout",
          "output_type": "stream",
          "text": [
            "36/36 [==============================] - 61s 1s/step - loss: 0.7475 - accuracy: 0.8889 - precision: 0.8303 - recall: 0.9618 - f1: 0.8900\n",
            "36/36 [==============================] - 44s 951ms/step - loss: 0.8063 - accuracy: 0.8643 - precision: 0.8321 - recall: 0.9566 - f1: 0.8895\n"
          ]
        },
        {
          "name": "stderr",
          "output_type": "stream",
          "text": [
            "11it [18:41, 102.41s/it]"
          ]
        },
        {
          "name": "stdout",
          "output_type": "stream",
          "text": [
            "36/36 [==============================] - 56s 1s/step - loss: 0.4785 - accuracy: 0.9493 - precision: 0.9069 - recall: 0.9740 - f1: 0.9384\n",
            "36/36 [==============================] - 43s 923ms/step - loss: 0.6314 - accuracy: 0.8713 - precision: 0.8481 - recall: 0.9670 - f1: 0.9032\n"
          ]
        },
        {
          "name": "stderr",
          "output_type": "stream",
          "text": [
            "12it [20:21, 101.63s/it]"
          ]
        },
        {
          "name": "stdout",
          "output_type": "stream",
          "text": [
            "36/36 [==============================] - 57s 1s/step - loss: 0.6148 - accuracy: 0.9396 - precision: 0.8929 - recall: 0.9615 - f1: 0.9254\n",
            "36/36 [==============================] - 43s 928ms/step - loss: 0.6601 - accuracy: 0.8661 - precision: 0.8462 - recall: 0.9652 - f1: 0.9012\n"
          ]
        },
        {
          "name": "stderr",
          "output_type": "stream",
          "text": [
            "13it [22:03, 101.65s/it]"
          ]
        },
        {
          "name": "stdout",
          "output_type": "stream",
          "text": [
            "36/36 [==============================] - 57s 1s/step - loss: 1.0422 - accuracy: 0.8711 - precision: 0.8184 - recall: 0.9436 - f1: 0.8759\n",
            "36/36 [==============================] - 44s 944ms/step - loss: 0.7317 - accuracy: 0.9052 - precision: 0.8703 - recall: 0.9592 - f1: 0.9120\n"
          ]
        },
        {
          "name": "stderr",
          "output_type": "stream",
          "text": [
            "14it [23:44, 101.55s/it]"
          ]
        },
        {
          "name": "stdout",
          "output_type": "stream",
          "text": [
            "36/36 [==============================] - 58s 1s/step - loss: 1.3534 - accuracy: 0.8898 - precision: 0.8285 - recall: 0.9181 - f1: 0.8704\n",
            "36/36 [==============================] - 43s 936ms/step - loss: 0.8672 - accuracy: 0.9348 - precision: 0.8820 - recall: 0.9496 - f1: 0.9142\n"
          ]
        },
        {
          "name": "stderr",
          "output_type": "stream",
          "text": [
            "15it [25:27, 101.89s/it]"
          ]
        },
        {
          "name": "stdout",
          "output_type": "stream",
          "text": [
            "36/36 [==============================] - 64s 1s/step - loss: 1.2489 - accuracy: 0.8569 - precision: 0.7979 - recall: 0.9314 - f1: 0.8589\n",
            "36/36 [==============================] - 45s 964ms/step - loss: 0.6750 - accuracy: 0.9243 - precision: 0.8732 - recall: 0.9626 - f1: 0.9152\n"
          ]
        },
        {
          "name": "stderr",
          "output_type": "stream",
          "text": [
            "16it [27:18, 104.61s/it]"
          ]
        },
        {
          "name": "stdout",
          "output_type": "stream",
          "text": [
            "36/36 [==============================] - 61s 1s/step - loss: 0.6483 - accuracy: 0.9387 - precision: 0.8719 - recall: 0.9653 - f1: 0.9155\n",
            "36/36 [==============================] - 44s 944ms/step - loss: 0.5764 - accuracy: 0.9391 - precision: 0.8955 - recall: 0.9679 - f1: 0.9298\n"
          ]
        },
        {
          "name": "stderr",
          "output_type": "stream",
          "text": [
            "17it [29:04, 105.30s/it]"
          ]
        },
        {
          "name": "stdout",
          "output_type": "stream",
          "text": [
            "36/36 [==============================] - 61s 1s/step - loss: 0.8145 - accuracy: 0.9324 - precision: 0.8503 - recall: 0.9557 - f1: 0.8992\n",
            "36/36 [==============================] - 44s 952ms/step - loss: 0.6545 - accuracy: 0.9383 - precision: 0.8972 - recall: 0.9627 - f1: 0.9284\n"
          ]
        },
        {
          "name": "stderr",
          "output_type": "stream",
          "text": [
            "18it [30:51, 105.77s/it]"
          ]
        },
        {
          "name": "stdout",
          "output_type": "stream",
          "text": [
            "36/36 [==============================] - 58s 1s/step - loss: 1.1673 - accuracy: 0.8604 - precision: 0.7912 - recall: 0.9273 - f1: 0.8533\n",
            "36/36 [==============================] - 43s 920ms/step - loss: 0.9187 - accuracy: 0.9000 - precision: 0.8544 - recall: 0.9478 - f1: 0.8981\n"
          ]
        },
        {
          "name": "stderr",
          "output_type": "stream",
          "text": [
            "19it [32:33, 104.47s/it]"
          ]
        },
        {
          "name": "stdout",
          "output_type": "stream",
          "text": [
            "36/36 [==============================] - 60s 1s/step - loss: 0.9263 - accuracy: 0.8231 - precision: 0.7714 - recall: 0.9540 - f1: 0.8525\n",
            "36/36 [==============================] - 45s 962ms/step - loss: 0.6955 - accuracy: 0.8843 - precision: 0.8523 - recall: 0.9626 - f1: 0.9033\n"
          ]
        },
        {
          "name": "stderr",
          "output_type": "stream",
          "text": [
            "20it [34:19, 105.12s/it]"
          ]
        },
        {
          "name": "stdout",
          "output_type": "stream",
          "text": [
            "36/36 [==============================] - 55s 1s/step - loss: 0.5607 - accuracy: 0.8818 - precision: 0.8486 - recall: 0.9722 - f1: 0.9056\n",
            "36/36 [==============================] - 43s 929ms/step - loss: 0.6256 - accuracy: 0.8948 - precision: 0.8694 - recall: 0.9660 - f1: 0.9146\n"
          ]
        },
        {
          "name": "stderr",
          "output_type": "stream",
          "text": [
            "21it [35:58, 103.14s/it]"
          ]
        },
        {
          "name": "stdout",
          "output_type": "stream",
          "text": [
            "36/36 [==============================] - 56s 1s/step - loss: 0.6883 - accuracy: 0.8818 - precision: 0.8346 - recall: 0.9653 - f1: 0.8942\n",
            "36/36 [==============================] - 44s 951ms/step - loss: 0.8323 - accuracy: 0.9043 - precision: 0.8771 - recall: 0.9520 - f1: 0.9124\n"
          ]
        },
        {
          "name": "stderr",
          "output_type": "stream",
          "text": [
            "22it [37:39, 102.59s/it]"
          ]
        },
        {
          "name": "stdout",
          "output_type": "stream",
          "text": [
            "36/36 [==============================] - 62s 1s/step - loss: 1.4607 - accuracy: 0.8391 - precision: 0.7908 - recall: 0.9184 - f1: 0.8491\n",
            "36/36 [==============================] - 45s 965ms/step - loss: 0.7651 - accuracy: 0.9165 - precision: 0.8624 - recall: 0.9574 - f1: 0.9068\n"
          ]
        },
        {
          "name": "stderr",
          "output_type": "stream",
          "text": [
            "23it [39:28, 104.44s/it]"
          ]
        },
        {
          "name": "stdout",
          "output_type": "stream",
          "text": [
            "36/36 [==============================] - 56s 1s/step - loss: 0.6761 - accuracy: 0.9298 - precision: 0.8550 - recall: 0.9644 - f1: 0.9060\n",
            "36/36 [==============================] - 44s 949ms/step - loss: 0.6446 - accuracy: 0.9304 - precision: 0.8779 - recall: 0.9643 - f1: 0.9186\n"
          ]
        },
        {
          "name": "stderr",
          "output_type": "stream",
          "text": [
            "24it [41:09, 103.38s/it]"
          ]
        },
        {
          "name": "stdout",
          "output_type": "stream",
          "text": [
            "36/36 [==============================] - 57s 1s/step - loss: 0.9608 - accuracy: 0.9156 - precision: 0.8390 - recall: 0.9424 - f1: 0.8871\n",
            "36/36 [==============================] - 43s 932ms/step - loss: 0.7336 - accuracy: 0.9348 - precision: 0.8829 - recall: 0.9583 - f1: 0.9187\n"
          ]
        },
        {
          "name": "stderr",
          "output_type": "stream",
          "text": [
            "25it [42:50, 102.84s/it]"
          ]
        },
        {
          "name": "stdout",
          "output_type": "stream",
          "text": [
            "36/36 [==============================] - 61s 1s/step - loss: 0.7120 - accuracy: 0.8942 - precision: 0.8330 - recall: 0.9635 - f1: 0.8929\n",
            "36/36 [==============================] - 44s 945ms/step - loss: 0.6275 - accuracy: 0.9209 - precision: 0.8816 - recall: 0.9652 - f1: 0.9212\n"
          ]
        },
        {
          "name": "stderr",
          "output_type": "stream",
          "text": [
            "26it [44:37, 103.95s/it]"
          ]
        },
        {
          "name": "stdout",
          "output_type": "stream",
          "text": [
            "36/36 [==============================] - 63s 1s/step - loss: 1.0835 - accuracy: 0.8667 - precision: 0.8308 - recall: 0.9401 - f1: 0.8816\n",
            "36/36 [==============================] - 44s 937ms/step - loss: 0.6409 - accuracy: 0.9183 - precision: 0.8823 - recall: 0.9644 - f1: 0.9208\n"
          ]
        },
        {
          "name": "stderr",
          "output_type": "stream",
          "text": [
            "27it [46:27, 105.81s/it]"
          ]
        },
        {
          "name": "stdout",
          "output_type": "stream",
          "text": [
            "36/36 [==============================] - 59s 1s/step - loss: 0.5127 - accuracy: 0.9502 - precision: 0.9056 - recall: 0.9722 - f1: 0.9371\n",
            "36/36 [==============================] - 44s 939ms/step - loss: 0.5704 - accuracy: 0.9322 - precision: 0.9019 - recall: 0.9678 - f1: 0.9333\n"
          ]
        },
        {
          "name": "stderr",
          "output_type": "stream",
          "text": [
            "28it [48:11, 105.31s/it]"
          ]
        },
        {
          "name": "stdout",
          "output_type": "stream",
          "text": [
            "36/36 [==============================] - 60s 1s/step - loss: 0.5132 - accuracy: 0.9253 - precision: 0.8030 - recall: 0.9783 - f1: 0.8812\n",
            "36/36 [==============================] - 44s 953ms/step - loss: 0.6546 - accuracy: 0.9443 - precision: 0.7950 - recall: 0.9687 - f1: 0.8726\n"
          ]
        },
        {
          "name": "stderr",
          "output_type": "stream",
          "text": [
            "29it [49:57, 105.37s/it]"
          ]
        },
        {
          "name": "stdout",
          "output_type": "stream",
          "text": [
            "36/36 [==============================] - 61s 1s/step - loss: 0.5913 - accuracy: 0.9058 - precision: 0.8176 - recall: 0.9722 - f1: 0.8877\n",
            "36/36 [==============================] - 44s 965ms/step - loss: 0.6667 - accuracy: 0.9383 - precision: 0.8115 - recall: 0.9670 - f1: 0.8819\n"
          ]
        },
        {
          "name": "stderr",
          "output_type": "stream",
          "text": [
            "30it [51:43, 105.77s/it]"
          ]
        },
        {
          "name": "stdout",
          "output_type": "stream",
          "text": [
            "36/36 [==============================] - 65s 1s/step - loss: 0.6069 - accuracy: 0.9129 - precision: 0.7880 - recall: 0.9731 - f1: 0.8700\n",
            "36/36 [==============================] - 44s 960ms/step - loss: 0.5757 - accuracy: 0.9409 - precision: 0.8094 - recall: 0.9730 - f1: 0.8828\n"
          ]
        },
        {
          "name": "stderr",
          "output_type": "stream",
          "text": [
            "31it [53:36, 107.80s/it]"
          ]
        },
        {
          "name": "stdout",
          "output_type": "stream",
          "text": [
            "36/36 [==============================] - 60s 1s/step - loss: 0.4089 - accuracy: 0.9440 - precision: 0.8488 - recall: 0.9818 - f1: 0.9098\n",
            "36/36 [==============================] - 43s 925ms/step - loss: 0.5092 - accuracy: 0.9487 - precision: 0.8210 - recall: 0.9766 - f1: 0.8915\n"
          ]
        },
        {
          "name": "stderr",
          "output_type": "stream",
          "text": [
            "32it [55:21, 106.96s/it]"
          ]
        },
        {
          "name": "stdout",
          "output_type": "stream",
          "text": [
            "36/36 [==============================] - 62s 1s/step - loss: 0.5312 - accuracy: 0.9404 - precision: 0.8407 - recall: 0.9748 - f1: 0.9021\n",
            "36/36 [==============================] - 44s 954ms/step - loss: 0.6043 - accuracy: 0.9522 - precision: 0.8208 - recall: 0.9705 - f1: 0.8887\n"
          ]
        },
        {
          "name": "stderr",
          "output_type": "stream",
          "text": [
            "33it [57:09, 107.22s/it]"
          ]
        },
        {
          "name": "stdout",
          "output_type": "stream",
          "text": [
            "36/36 [==============================] - 56s 1s/step - loss: 0.5784 - accuracy: 0.9200 - precision: 0.7892 - recall: 0.9748 - f1: 0.8716\n",
            "36/36 [==============================] - 44s 950ms/step - loss: 0.7581 - accuracy: 0.9374 - precision: 0.7852 - recall: 0.9626 - f1: 0.8642\n"
          ]
        },
        {
          "name": "stderr",
          "output_type": "stream",
          "text": [
            "34it [58:50, 105.43s/it]"
          ]
        },
        {
          "name": "stdout",
          "output_type": "stream",
          "text": [
            "36/36 [==============================] - 62s 1s/step - loss: 0.5688 - accuracy: 0.9316 - precision: 0.7617 - recall: 0.9774 - f1: 0.8555\n",
            "36/36 [==============================] - 44s 938ms/step - loss: 0.6096 - accuracy: 0.9357 - precision: 0.7874 - recall: 0.9722 - f1: 0.8692\n"
          ]
        },
        {
          "name": "stderr",
          "output_type": "stream",
          "text": [
            "35it [1:00:38, 106.27s/it]"
          ]
        },
        {
          "name": "stdout",
          "output_type": "stream",
          "text": [
            "36/36 [==============================] - 56s 1s/step - loss: 0.3874 - accuracy: 0.9484 - precision: 0.8257 - recall: 0.9844 - f1: 0.8972\n",
            "36/36 [==============================] - 44s 945ms/step - loss: 0.5712 - accuracy: 0.9443 - precision: 0.7988 - recall: 0.9738 - f1: 0.8769\n"
          ]
        },
        {
          "name": "stderr",
          "output_type": "stream",
          "text": [
            "36it [1:02:20, 104.78s/it]"
          ]
        },
        {
          "name": "stdout",
          "output_type": "stream",
          "text": [
            "36/36 [==============================] - 57s 1s/step - loss: 0.4979 - accuracy: 0.9458 - precision: 0.8145 - recall: 0.9783 - f1: 0.8879\n",
            "36/36 [==============================] - 44s 952ms/step - loss: 0.6608 - accuracy: 0.9409 - precision: 0.8047 - recall: 0.9678 - f1: 0.8775\n"
          ]
        },
        {
          "name": "stderr",
          "output_type": "stream",
          "text": [
            "37it [1:04:03, 104.21s/it]"
          ]
        },
        {
          "name": "stdout",
          "output_type": "stream",
          "text": [
            "36/36 [==============================] - 63s 1s/step - loss: 0.6654 - accuracy: 0.9022 - precision: 0.7785 - recall: 0.9649 - f1: 0.8602\n",
            "36/36 [==============================] - 45s 969ms/step - loss: 0.6377 - accuracy: 0.9322 - precision: 0.8012 - recall: 0.9696 - f1: 0.8766\n"
          ]
        },
        {
          "name": "stderr",
          "output_type": "stream",
          "text": [
            "38it [1:05:53, 106.19s/it]"
          ]
        },
        {
          "name": "stdout",
          "output_type": "stream",
          "text": [
            "36/36 [==============================] - 59s 1s/step - loss: 0.4181 - accuracy: 0.9369 - precision: 0.8360 - recall: 0.9818 - f1: 0.9023\n",
            "36/36 [==============================] - 44s 958ms/step - loss: 0.5602 - accuracy: 0.9443 - precision: 0.8119 - recall: 0.9740 - f1: 0.8847\n"
          ]
        },
        {
          "name": "stderr",
          "output_type": "stream",
          "text": [
            "39it [1:07:38, 105.72s/it]"
          ]
        },
        {
          "name": "stdout",
          "output_type": "stream",
          "text": [
            "36/36 [==============================] - 60s 1s/step - loss: 0.5783 - accuracy: 0.9307 - precision: 0.8297 - recall: 0.9722 - f1: 0.8947\n",
            "36/36 [==============================] - 44s 963ms/step - loss: 0.6819 - accuracy: 0.9504 - precision: 0.8112 - recall: 0.9661 - f1: 0.8809\n"
          ]
        },
        {
          "name": "stderr",
          "output_type": "stream",
          "text": [
            "40it [1:09:24, 105.72s/it]"
          ]
        },
        {
          "name": "stdout",
          "output_type": "stream",
          "text": [
            "36/36 [==============================] - 65s 1s/step - loss: 0.4822 - accuracy: 0.9404 - precision: 0.8223 - recall: 0.9792 - f1: 0.8928\n",
            "36/36 [==============================] - 45s 989ms/step - loss: 0.5284 - accuracy: 0.9409 - precision: 0.8179 - recall: 0.9757 - f1: 0.8889\n"
          ]
        },
        {
          "name": "stderr",
          "output_type": "stream",
          "text": [
            "41it [1:11:16, 107.77s/it]"
          ]
        },
        {
          "name": "stdout",
          "output_type": "stream",
          "text": [
            "36/36 [==============================] - 66s 1s/step - loss: 0.5641 - accuracy: 0.9191 - precision: 0.8214 - recall: 0.9740 - f1: 0.8903\n",
            "36/36 [==============================] - 44s 958ms/step - loss: 0.5985 - accuracy: 0.9452 - precision: 0.8145 - recall: 0.9714 - f1: 0.8849\n"
          ]
        },
        {
          "name": "stderr",
          "output_type": "stream",
          "text": [
            "42it [1:13:09, 109.39s/it]"
          ]
        },
        {
          "name": "stdout",
          "output_type": "stream",
          "text": [
            "36/36 [==============================] - 60s 1s/step - loss: 0.4379 - accuracy: 0.9547 - precision: 0.8805 - recall: 0.9783 - f1: 0.9264\n",
            "36/36 [==============================] - 44s 964ms/step - loss: 0.5318 - accuracy: 0.9522 - precision: 0.8270 - recall: 0.9748 - f1: 0.8941\n"
          ]
        },
        {
          "name": "stderr",
          "output_type": "stream",
          "text": [
            "43it [1:14:55, 108.33s/it]"
          ]
        },
        {
          "name": "stdout",
          "output_type": "stream",
          "text": [
            "36/36 [==============================] - 60s 1s/step - loss: 0.8579 - accuracy: 0.8862 - precision: 0.7832 - recall: 0.9575 - f1: 0.8606\n",
            "36/36 [==============================] - 44s 943ms/step - loss: 0.7336 - accuracy: 0.9348 - precision: 0.8381 - recall: 0.9609 - f1: 0.8946\n"
          ]
        },
        {
          "name": "stderr",
          "output_type": "stream",
          "text": [
            "44it [1:16:40, 107.24s/it]"
          ]
        },
        {
          "name": "stdout",
          "output_type": "stream",
          "text": [
            "36/36 [==============================] - 64s 1s/step - loss: 0.7282 - accuracy: 0.8924 - precision: 0.7550 - recall: 0.9679 - f1: 0.8474\n",
            "36/36 [==============================] - 45s 980ms/step - loss: 0.5960 - accuracy: 0.9443 - precision: 0.8293 - recall: 0.9705 - f1: 0.8935\n"
          ]
        },
        {
          "name": "stderr",
          "output_type": "stream",
          "text": [
            "45it [1:18:32, 108.55s/it]"
          ]
        },
        {
          "name": "stdout",
          "output_type": "stream",
          "text": [
            "36/36 [==============================] - 60s 1s/step - loss: 0.5031 - accuracy: 0.9227 - precision: 0.8095 - recall: 0.9783 - f1: 0.8850\n",
            "36/36 [==============================] - 44s 945ms/step - loss: 0.5119 - accuracy: 0.9435 - precision: 0.8454 - recall: 0.9748 - f1: 0.9049\n"
          ]
        },
        {
          "name": "stderr",
          "output_type": "stream",
          "text": [
            "46it [1:20:18, 107.81s/it]"
          ]
        },
        {
          "name": "stdout",
          "output_type": "stream",
          "text": [
            "36/36 [==============================] - 61s 1s/step - loss: 0.5567 - accuracy: 0.9111 - precision: 0.7937 - recall: 0.9757 - f1: 0.8748\n",
            "36/36 [==============================] - 44s 942ms/step - loss: 0.6262 - accuracy: 0.9400 - precision: 0.8535 - recall: 0.9670 - f1: 0.9058\n"
          ]
        },
        {
          "name": "stderr",
          "output_type": "stream",
          "text": [
            "47it [1:22:05, 107.57s/it]"
          ]
        },
        {
          "name": "stdout",
          "output_type": "stream",
          "text": [
            "36/36 [==============================] - 66s 1s/step - loss: 1.0004 - accuracy: 0.8738 - precision: 0.7808 - recall: 0.9488 - f1: 0.8555\n",
            "36/36 [==============================] - 45s 966ms/step - loss: 0.6071 - accuracy: 0.9330 - precision: 0.8457 - recall: 0.9686 - f1: 0.9023\n"
          ]
        },
        {
          "name": "stderr",
          "output_type": "stream",
          "text": [
            "48it [1:23:59, 109.52s/it]"
          ]
        },
        {
          "name": "stdout",
          "output_type": "stream",
          "text": [
            "36/36 [==============================] - 60s 1s/step - loss: 0.5797 - accuracy: 0.9058 - precision: 0.8257 - recall: 0.9722 - f1: 0.8922\n",
            "36/36 [==============================] - 43s 930ms/step - loss: 0.5258 - accuracy: 0.9374 - precision: 0.8613 - recall: 0.9731 - f1: 0.9131\n"
          ]
        },
        {
          "name": "stderr",
          "output_type": "stream",
          "text": [
            "49it [1:25:44, 108.12s/it]"
          ]
        },
        {
          "name": "stdout",
          "output_type": "stream",
          "text": [
            "36/36 [==============================] - 61s 1s/step - loss: 0.6691 - accuracy: 0.8889 - precision: 0.8142 - recall: 0.9623 - f1: 0.8809\n",
            "36/36 [==============================] - 45s 975ms/step - loss: 0.6442 - accuracy: 0.9400 - precision: 0.8625 - recall: 0.9652 - f1: 0.9105\n"
          ]
        },
        {
          "name": "stderr",
          "output_type": "stream",
          "text": [
            "50it [1:27:32, 108.10s/it]"
          ]
        },
        {
          "name": "stdout",
          "output_type": "stream",
          "text": [
            "36/36 [==============================] - 66s 1s/step - loss: 0.6389 - accuracy: 0.9182 - precision: 0.7981 - recall: 0.9705 - f1: 0.8750\n",
            "36/36 [==============================] - 44s 959ms/step - loss: 0.5335 - accuracy: 0.9504 - precision: 0.8515 - recall: 0.9730 - f1: 0.9077\n"
          ]
        },
        {
          "name": "stderr",
          "output_type": "stream",
          "text": [
            "51it [1:29:25, 109.75s/it]"
          ]
        },
        {
          "name": "stdout",
          "output_type": "stream",
          "text": [
            "36/36 [==============================] - 68s 1s/step - loss: 0.7786 - accuracy: 0.9022 - precision: 0.7914 - recall: 0.9618 - f1: 0.8674\n",
            "36/36 [==============================] - 45s 973ms/step - loss: 0.5861 - accuracy: 0.9513 - precision: 0.8530 - recall: 0.9694 - f1: 0.9068\n"
          ]
        },
        {
          "name": "stderr",
          "output_type": "stream",
          "text": [
            "52it [1:31:21, 111.65s/it]"
          ]
        },
        {
          "name": "stdout",
          "output_type": "stream",
          "text": [
            "36/36 [==============================] - 63s 1s/step - loss: 0.4794 - accuracy: 0.9369 - precision: 0.8520 - recall: 0.9774 - f1: 0.9093\n",
            "36/36 [==============================] - 44s 946ms/step - loss: 0.5297 - accuracy: 0.9539 - precision: 0.8703 - recall: 0.9722 - f1: 0.9178\n"
          ]
        },
        {
          "name": "stderr",
          "output_type": "stream",
          "text": [
            "53it [1:33:10, 110.74s/it]"
          ]
        },
        {
          "name": "stdout",
          "output_type": "stream",
          "text": [
            "36/36 [==============================] - 63s 1s/step - loss: 0.8182 - accuracy: 0.8836 - precision: 0.7441 - recall: 0.9627 - f1: 0.8384\n",
            "36/36 [==============================] - 44s 956ms/step - loss: 0.6857 - accuracy: 0.9374 - precision: 0.8188 - recall: 0.9652 - f1: 0.8852\n"
          ]
        },
        {
          "name": "stderr",
          "output_type": "stream",
          "text": [
            "54it [1:34:59, 110.29s/it]"
          ]
        },
        {
          "name": "stdout",
          "output_type": "stream",
          "text": [
            "36/36 [==============================] - 56s 1s/step - loss: 0.5583 - accuracy: 0.9209 - precision: 0.7879 - recall: 0.9710 - f1: 0.8686\n",
            "36/36 [==============================] - 45s 981ms/step - loss: 0.6325 - accuracy: 0.9443 - precision: 0.8320 - recall: 0.9678 - f1: 0.8938\n"
          ]
        },
        {
          "name": "stderr",
          "output_type": "stream",
          "text": [
            "55it [1:36:42, 107.93s/it]"
          ]
        },
        {
          "name": "stdout",
          "output_type": "stream",
          "text": [
            "36/36 [==============================] - 59s 1s/step - loss: 0.6210 - accuracy: 0.9031 - precision: 0.7872 - recall: 0.9722 - f1: 0.8694\n",
            "36/36 [==============================] - 44s 939ms/step - loss: 0.7171 - accuracy: 0.9348 - precision: 0.8422 - recall: 0.9617 - f1: 0.8972\n"
          ]
        },
        {
          "name": "stderr",
          "output_type": "stream",
          "text": [
            "56it [1:38:26, 106.87s/it]"
          ]
        },
        {
          "name": "stdout",
          "output_type": "stream",
          "text": [
            "36/36 [==============================] - 62s 1s/step - loss: 0.5634 - accuracy: 0.9342 - precision: 0.7654 - recall: 0.9774 - f1: 0.8577\n",
            "36/36 [==============================] - 44s 960ms/step - loss: 0.5685 - accuracy: 0.9496 - precision: 0.8287 - recall: 0.9722 - f1: 0.8940\n"
          ]
        },
        {
          "name": "stderr",
          "output_type": "stream",
          "text": [
            "57it [1:40:15, 107.42s/it]"
          ]
        },
        {
          "name": "stdout",
          "output_type": "stream",
          "text": [
            "36/36 [==============================] - 66s 1s/step - loss: 0.6190 - accuracy: 0.9102 - precision: 0.7671 - recall: 0.9740 - f1: 0.8574\n",
            "36/36 [==============================] - 45s 984ms/step - loss: 0.6153 - accuracy: 0.9417 - precision: 0.8356 - recall: 0.9687 - f1: 0.8966\n"
          ]
        },
        {
          "name": "stderr",
          "output_type": "stream",
          "text": [
            "58it [1:42:09, 109.61s/it]"
          ]
        },
        {
          "name": "stdout",
          "output_type": "stream",
          "text": [
            "36/36 [==============================] - 60s 1s/step - loss: 0.4517 - accuracy: 0.9467 - precision: 0.8154 - recall: 0.9809 - f1: 0.8891\n",
            "36/36 [==============================] - 44s 953ms/step - loss: 0.5592 - accuracy: 0.9435 - precision: 0.8515 - recall: 0.9712 - f1: 0.9069\n"
          ]
        },
        {
          "name": "stderr",
          "output_type": "stream",
          "text": [
            "59it [1:43:55, 108.34s/it]"
          ]
        },
        {
          "name": "stdout",
          "output_type": "stream",
          "text": [
            "36/36 [==============================] - 64s 1s/step - loss: 0.6299 - accuracy: 0.9040 - precision: 0.7836 - recall: 0.9620 - f1: 0.8627\n",
            "36/36 [==============================] - 45s 977ms/step - loss: 0.5705 - accuracy: 0.9461 - precision: 0.8412 - recall: 0.9714 - f1: 0.9009\n"
          ]
        },
        {
          "name": "stderr",
          "output_type": "stream",
          "text": [
            "60it [1:45:46, 109.29s/it]"
          ]
        },
        {
          "name": "stdout",
          "output_type": "stream",
          "text": [
            "36/36 [==============================] - 69s 1s/step - loss: 0.9076 - accuracy: 0.8978 - precision: 0.7869 - recall: 0.9540 - f1: 0.8617\n",
            "36/36 [==============================] - 45s 964ms/step - loss: 0.6216 - accuracy: 0.9443 - precision: 0.8445 - recall: 0.9678 - f1: 0.9012\n"
          ]
        },
        {
          "name": "stderr",
          "output_type": "stream",
          "text": [
            "61it [1:47:43, 111.61s/it]"
          ]
        },
        {
          "name": "stdout",
          "output_type": "stream",
          "text": [
            "36/36 [==============================] - 60s 1s/step - loss: 0.4879 - accuracy: 0.9271 - precision: 0.8371 - recall: 0.9727 - f1: 0.8990\n",
            "36/36 [==============================] - 44s 955ms/step - loss: 0.5681 - accuracy: 0.9513 - precision: 0.8591 - recall: 0.9704 - f1: 0.9106\n"
          ]
        },
        {
          "name": "stderr",
          "output_type": "stream",
          "text": [
            "62it [1:49:29, 109.87s/it]"
          ]
        },
        {
          "name": "stdout",
          "output_type": "stream",
          "text": [
            "36/36 [==============================] - 67s 1s/step - loss: 0.5167 - accuracy: 0.9209 - precision: 0.8278 - recall: 0.9766 - f1: 0.8952\n",
            "36/36 [==============================] - 44s 956ms/step - loss: 0.5413 - accuracy: 0.9530 - precision: 0.8579 - recall: 0.9722 - f1: 0.9110\n"
          ]
        },
        {
          "name": "stderr",
          "output_type": "stream",
          "text": [
            "63it [1:51:24, 111.24s/it]"
          ]
        },
        {
          "name": "stdout",
          "output_type": "stream",
          "text": [
            "36/36 [==============================] - 62s 1s/step - loss: 0.5283 - accuracy: 0.9218 - precision: 0.7682 - recall: 0.9745 - f1: 0.8579\n",
            "36/36 [==============================] - 45s 966ms/step - loss: 0.6774 - accuracy: 0.9487 - precision: 0.7744 - recall: 0.9686 - f1: 0.8595\n"
          ]
        },
        {
          "name": "stderr",
          "output_type": "stream",
          "text": [
            "64it [1:53:12, 110.38s/it]"
          ]
        },
        {
          "name": "stdout",
          "output_type": "stream",
          "text": [
            "36/36 [==============================] - 67s 1s/step - loss: 0.5338 - accuracy: 0.9351 - precision: 0.7456 - recall: 0.9809 - f1: 0.8464\n",
            "36/36 [==============================] - 45s 993ms/step - loss: 0.5997 - accuracy: 0.9452 - precision: 0.7723 - recall: 0.9739 - f1: 0.8601\n"
          ]
        },
        {
          "name": "stderr",
          "output_type": "stream",
          "text": [
            "65it [1:55:07, 111.94s/it]"
          ]
        },
        {
          "name": "stdout",
          "output_type": "stream",
          "text": [
            "36/36 [==============================] - 60s 1s/step - loss: 0.3816 - accuracy: 0.9458 - precision: 0.7991 - recall: 0.9870 - f1: 0.8817\n",
            "36/36 [==============================] - 44s 955ms/step - loss: 0.5211 - accuracy: 0.9496 - precision: 0.7812 - recall: 0.9782 - f1: 0.8678\n"
          ]
        },
        {
          "name": "stderr",
          "output_type": "stream",
          "text": [
            "66it [1:56:54, 110.42s/it]"
          ]
        },
        {
          "name": "stdout",
          "output_type": "stream",
          "text": [
            "36/36 [==============================] - 63s 1s/step - loss: 0.4879 - accuracy: 0.9458 - precision: 0.7817 - recall: 0.9809 - f1: 0.8685\n",
            "36/36 [==============================] - 45s 962ms/step - loss: 0.6259 - accuracy: 0.9478 - precision: 0.7839 - recall: 0.9713 - f1: 0.8668\n"
          ]
        },
        {
          "name": "stderr",
          "output_type": "stream",
          "text": [
            "67it [1:58:45, 110.48s/it]"
          ]
        },
        {
          "name": "stdout",
          "output_type": "stream",
          "text": [
            "36/36 [==============================] - 69s 1s/step - loss: 0.5892 - accuracy: 0.9253 - precision: 0.7734 - recall: 0.9757 - f1: 0.8617\n",
            "36/36 [==============================] - 45s 975ms/step - loss: 0.5838 - accuracy: 0.9365 - precision: 0.7878 - recall: 0.9740 - f1: 0.8704\n"
          ]
        },
        {
          "name": "stderr",
          "output_type": "stream",
          "text": [
            "68it [2:00:42, 112.53s/it]"
          ]
        },
        {
          "name": "stdout",
          "output_type": "stream",
          "text": [
            "36/36 [==============================] - 62s 1s/step - loss: 0.3899 - accuracy: 0.9449 - precision: 0.8119 - recall: 0.9852 - f1: 0.8891\n",
            "36/36 [==============================] - 45s 968ms/step - loss: 0.5199 - accuracy: 0.9435 - precision: 0.7965 - recall: 0.9773 - f1: 0.8772\n"
          ]
        },
        {
          "name": "stderr",
          "output_type": "stream",
          "text": [
            "69it [2:02:32, 111.74s/it]"
          ]
        },
        {
          "name": "stdout",
          "output_type": "stream",
          "text": [
            "36/36 [==============================] - 64s 1s/step - loss: 0.5061 - accuracy: 0.9458 - precision: 0.8071 - recall: 0.9736 - f1: 0.8816\n",
            "36/36 [==============================] - 44s 957ms/step - loss: 0.6170 - accuracy: 0.9487 - precision: 0.7942 - recall: 0.9712 - f1: 0.8733\n"
          ]
        },
        {
          "name": "stderr",
          "output_type": "stream",
          "text": [
            "70it [2:04:23, 111.55s/it]"
          ]
        },
        {
          "name": "stdout",
          "output_type": "stream",
          "text": [
            "36/36 [==============================] - 68s 1s/step - loss: 0.4607 - accuracy: 0.9449 - precision: 0.7862 - recall: 0.9826 - f1: 0.8727\n",
            "36/36 [==============================] - 45s 972ms/step - loss: 0.4970 - accuracy: 0.9409 - precision: 0.7948 - recall: 0.9792 - f1: 0.8764\n"
          ]
        },
        {
          "name": "stderr",
          "output_type": "stream",
          "text": [
            "71it [2:06:21, 113.25s/it]"
          ]
        },
        {
          "name": "stdout",
          "output_type": "stream",
          "text": [
            "36/36 [==============================] - 70s 1s/step - loss: 0.5311 - accuracy: 0.9369 - precision: 0.7836 - recall: 0.9783 - f1: 0.8690\n",
            "36/36 [==============================] - 45s 973ms/step - loss: 0.5791 - accuracy: 0.9452 - precision: 0.7919 - recall: 0.9739 - f1: 0.8728\n"
          ]
        },
        {
          "name": "stderr",
          "output_type": "stream",
          "text": [
            "72it [2:08:19, 114.87s/it]"
          ]
        },
        {
          "name": "stdout",
          "output_type": "stream",
          "text": [
            "36/36 [==============================] - 64s 1s/step - loss: 0.4137 - accuracy: 0.9573 - precision: 0.8269 - recall: 0.9780 - f1: 0.8952\n",
            "36/36 [==============================] - 45s 965ms/step - loss: 0.5131 - accuracy: 0.9504 - precision: 0.8051 - recall: 0.9774 - f1: 0.8818\n"
          ]
        },
        {
          "name": "stderr",
          "output_type": "stream",
          "text": [
            "73it [2:10:11, 113.83s/it]"
          ]
        },
        {
          "name": "stdout",
          "output_type": "stream",
          "text": [
            "36/36 [==============================] - 65s 1s/step - loss: 0.5678 - accuracy: 0.9271 - precision: 0.7397 - recall: 0.9792 - f1: 0.8417\n",
            "36/36 [==============================] - 45s 984ms/step - loss: 0.6354 - accuracy: 0.9348 - precision: 0.7631 - recall: 0.9722 - f1: 0.8540\n"
          ]
        },
        {
          "name": "stderr",
          "output_type": "stream",
          "text": [
            "74it [2:12:04, 113.66s/it]"
          ]
        },
        {
          "name": "stdout",
          "output_type": "stream",
          "text": [
            "36/36 [==============================] - 59s 1s/step - loss: 0.4191 - accuracy: 0.9440 - precision: 0.7814 - recall: 0.9852 - f1: 0.8705\n",
            "36/36 [==============================] - 45s 970ms/step - loss: 0.5858 - accuracy: 0.9417 - precision: 0.7702 - recall: 0.9748 - f1: 0.8599\n"
          ]
        },
        {
          "name": "stderr",
          "output_type": "stream",
          "text": [
            "75it [2:13:49, 111.12s/it]"
          ]
        },
        {
          "name": "stdout",
          "output_type": "stream",
          "text": [
            "36/36 [==============================] - 61s 1s/step - loss: 0.5227 - accuracy: 0.9431 - precision: 0.7736 - recall: 0.9792 - f1: 0.8636\n",
            "36/36 [==============================] - 45s 968ms/step - loss: 0.6886 - accuracy: 0.9426 - precision: 0.7750 - recall: 0.9678 - f1: 0.8599\n"
          ]
        },
        {
          "name": "stderr",
          "output_type": "stream",
          "text": [
            "76it [2:15:37, 110.08s/it]"
          ]
        },
        {
          "name": "stdout",
          "output_type": "stream",
          "text": [
            "36/36 [==============================] - 65s 1s/step - loss: 0.4522 - accuracy: 0.9502 - precision: 0.7607 - recall: 0.9852 - f1: 0.8570\n",
            "36/36 [==============================] - 44s 950ms/step - loss: 0.5316 - accuracy: 0.9409 - precision: 0.7735 - recall: 0.9783 - f1: 0.8628\n"
          ]
        },
        {
          "name": "stderr",
          "output_type": "stream",
          "text": [
            "77it [2:17:28, 110.47s/it]"
          ]
        },
        {
          "name": "stdout",
          "output_type": "stream",
          "text": [
            "36/36 [==============================] - 67s 1s/step - loss: 0.5058 - accuracy: 0.9404 - precision: 0.7610 - recall: 0.9818 - f1: 0.8562\n",
            "36/36 [==============================] - 45s 975ms/step - loss: 0.6080 - accuracy: 0.9374 - precision: 0.7755 - recall: 0.9730 - f1: 0.8622\n"
          ]
        },
        {
          "name": "stderr",
          "output_type": "stream",
          "text": [
            "78it [2:19:23, 111.90s/it]"
          ]
        },
        {
          "name": "stdout",
          "output_type": "stream",
          "text": [
            "36/36 [==============================] - 60s 1s/step - loss: 0.4116 - accuracy: 0.9547 - precision: 0.8076 - recall: 0.9844 - f1: 0.8863\n",
            "36/36 [==============================] - 44s 961ms/step - loss: 0.5557 - accuracy: 0.9435 - precision: 0.7866 - recall: 0.9757 - f1: 0.8701\n"
          ]
        },
        {
          "name": "stderr",
          "output_type": "stream",
          "text": [
            "79it [2:21:10, 110.24s/it]"
          ]
        },
        {
          "name": "stdout",
          "output_type": "stream",
          "text": [
            "36/36 [==============================] - 66s 1s/step - loss: 0.4502 - accuracy: 0.9387 - precision: 0.7805 - recall: 0.9835 - f1: 0.8692\n",
            "36/36 [==============================] - 45s 968ms/step - loss: 0.5190 - accuracy: 0.9348 - precision: 0.7868 - recall: 0.9782 - f1: 0.8713\n"
          ]
        },
        {
          "name": "stderr",
          "output_type": "stream",
          "text": [
            "80it [2:23:03, 111.03s/it]"
          ]
        },
        {
          "name": "stdout",
          "output_type": "stream",
          "text": [
            "36/36 [==============================] - 68s 1s/step - loss: 0.5622 - accuracy: 0.9244 - precision: 0.7773 - recall: 0.9766 - f1: 0.8641\n",
            "36/36 [==============================] - 45s 957ms/step - loss: 0.6140 - accuracy: 0.9409 - precision: 0.7854 - recall: 0.9721 - f1: 0.8679\n"
          ]
        },
        {
          "name": "stderr",
          "output_type": "stream",
          "text": [
            "81it [2:24:59, 112.63s/it]"
          ]
        },
        {
          "name": "stdout",
          "output_type": "stream",
          "text": [
            "36/36 [==============================] - 61s 1s/step - loss: 0.4328 - accuracy: 0.9547 - precision: 0.8282 - recall: 0.9818 - f1: 0.8974\n",
            "36/36 [==============================] - 44s 951ms/step - loss: 0.5507 - accuracy: 0.9478 - precision: 0.7933 - recall: 0.9757 - f1: 0.8745\n"
          ]
        },
        {
          "name": "stderr",
          "output_type": "stream",
          "text": [
            "82it [2:26:46, 111.01s/it]"
          ]
        },
        {
          "name": "stdout",
          "output_type": "stream",
          "text": [
            "36/36 [==============================] - 68s 1s/step - loss: 0.4620 - accuracy: 0.9511 - precision: 0.8113 - recall: 0.9809 - f1: 0.8870\n",
            "36/36 [==============================] - 44s 950ms/step - loss: 0.5211 - accuracy: 0.9452 - precision: 0.7988 - recall: 0.9773 - f1: 0.8779\n"
          ]
        },
        {
          "name": "stderr",
          "output_type": "stream",
          "text": [
            "83it [2:28:41, 112.19s/it]"
          ]
        },
        {
          "name": "stdout",
          "output_type": "stream",
          "text": [
            "36/36 [==============================] - 66s 1s/step - loss: 0.6782 - accuracy: 0.8987 - precision: 0.7334 - recall: 0.9722 - f1: 0.8351\n",
            "36/36 [==============================] - 45s 977ms/step - loss: 0.6186 - accuracy: 0.9487 - precision: 0.8040 - recall: 0.9704 - f1: 0.8788\n"
          ]
        },
        {
          "name": "stderr",
          "output_type": "stream",
          "text": [
            "84it [2:30:35, 112.62s/it]"
          ]
        },
        {
          "name": "stdout",
          "output_type": "stream",
          "text": [
            "36/36 [==============================] - 62s 1s/step - loss: 0.4933 - accuracy: 0.9209 - precision: 0.7770 - recall: 0.9809 - f1: 0.8660\n",
            "36/36 [==============================] - 45s 958ms/step - loss: 0.5379 - accuracy: 0.9496 - precision: 0.8187 - recall: 0.9748 - f1: 0.8890\n"
          ]
        },
        {
          "name": "stderr",
          "output_type": "stream",
          "text": [
            "85it [2:32:23, 111.33s/it]"
          ]
        },
        {
          "name": "stdout",
          "output_type": "stream",
          "text": [
            "36/36 [==============================] - 62s 1s/step - loss: 0.5252 - accuracy: 0.9129 - precision: 0.7745 - recall: 0.9792 - f1: 0.8636\n",
            "36/36 [==============================] - 44s 944ms/step - loss: 0.6513 - accuracy: 0.9426 - precision: 0.8260 - recall: 0.9668 - f1: 0.8901\n"
          ]
        },
        {
          "name": "stderr",
          "output_type": "stream",
          "text": [
            "86it [2:34:12, 110.64s/it]"
          ]
        },
        {
          "name": "stdout",
          "output_type": "stream",
          "text": [
            "36/36 [==============================] - 67s 1s/step - loss: 0.5274 - accuracy: 0.9351 - precision: 0.7449 - recall: 0.9809 - f1: 0.8457\n",
            "36/36 [==============================] - 47s 1000ms/step - loss: 0.5062 - accuracy: 0.9496 - precision: 0.8095 - recall: 0.9774 - f1: 0.8848\n"
          ]
        },
        {
          "name": "stderr",
          "output_type": "stream",
          "text": [
            "87it [2:36:09, 112.40s/it]"
          ]
        },
        {
          "name": "stdout",
          "output_type": "stream",
          "text": [
            "36/36 [==============================] - 67s 1s/step - loss: 0.5556 - accuracy: 0.9218 - precision: 0.7519 - recall: 0.9792 - f1: 0.8494\n",
            "36/36 [==============================] - 45s 979ms/step - loss: 0.5807 - accuracy: 0.9470 - precision: 0.8161 - recall: 0.9722 - f1: 0.8864\n"
          ]
        },
        {
          "name": "stderr",
          "output_type": "stream",
          "text": [
            "88it [2:38:06, 113.76s/it]"
          ]
        },
        {
          "name": "stdout",
          "output_type": "stream",
          "text": [
            "36/36 [==============================] - 62s 1s/step - loss: 0.4254 - accuracy: 0.9440 - precision: 0.7963 - recall: 0.9844 - f1: 0.8791\n",
            "36/36 [==============================] - 44s 954ms/step - loss: 0.5250 - accuracy: 0.9487 - precision: 0.8318 - recall: 0.9748 - f1: 0.8967\n"
          ]
        },
        {
          "name": "stderr",
          "output_type": "stream",
          "text": [
            "89it [2:39:54, 112.08s/it]"
          ]
        },
        {
          "name": "stdout",
          "output_type": "stream",
          "text": [
            "36/36 [==============================] - 70s 1s/step - loss: 0.5807 - accuracy: 0.9236 - precision: 0.7734 - recall: 0.9757 - f1: 0.8618\n",
            "36/36 [==============================] - 51s 1s/step - loss: 0.5044 - accuracy: 0.9478 - precision: 0.8268 - recall: 0.9765 - f1: 0.8946\n"
          ]
        },
        {
          "name": "stderr",
          "output_type": "stream",
          "text": [
            "90it [2:41:58, 115.78s/it]"
          ]
        },
        {
          "name": "stdout",
          "output_type": "stream",
          "text": [
            "36/36 [==============================] - 78s 1s/step - loss: 0.6656 - accuracy: 0.9093 - precision: 0.7771 - recall: 0.9705 - f1: 0.8619\n",
            "36/36 [==============================] - 51s 1s/step - loss: 0.5831 - accuracy: 0.9522 - precision: 0.8280 - recall: 0.9713 - f1: 0.8934\n"
          ]
        },
        {
          "name": "stderr",
          "output_type": "stream",
          "text": [
            "91it [2:44:12, 121.08s/it]"
          ]
        },
        {
          "name": "stdout",
          "output_type": "stream",
          "text": [
            "36/36 [==============================] - 70s 1s/step - loss: 0.4416 - accuracy: 0.9413 - precision: 0.8176 - recall: 0.9818 - f1: 0.8912\n",
            "36/36 [==============================] - 46s 993ms/step - loss: 0.5295 - accuracy: 0.9513 - precision: 0.8432 - recall: 0.9739 - f1: 0.9028\n"
          ]
        },
        {
          "name": "stderr",
          "output_type": "stream",
          "text": [
            "92it [2:46:12, 120.95s/it]"
          ]
        },
        {
          "name": "stdout",
          "output_type": "stream",
          "text": [
            "36/36 [==============================] - 79s 1s/step - loss: 0.5102 - accuracy: 0.9396 - precision: 0.7914 - recall: 0.9792 - f1: 0.8743\n",
            "36/36 [==============================] - 47s 1s/step - loss: 0.5241 - accuracy: 0.9557 - precision: 0.8330 - recall: 0.9748 - f1: 0.8975\n"
          ]
        },
        {
          "name": "stderr",
          "output_type": "stream",
          "text": [
            "93it [2:48:24, 124.09s/it]"
          ]
        },
        {
          "name": "stdout",
          "output_type": "stream",
          "text": [
            "36/36 [==============================] - 70s 1s/step - loss: 0.5620 - accuracy: 0.9307 - precision: 0.7464 - recall: 0.9792 - f1: 0.8457\n",
            "36/36 [==============================] - 46s 1s/step - loss: 0.5969 - accuracy: 0.9504 - precision: 0.7990 - recall: 0.9722 - f1: 0.8763\n"
          ]
        },
        {
          "name": "stderr",
          "output_type": "stream",
          "text": [
            "94it [2:50:23, 122.77s/it]"
          ]
        },
        {
          "name": "stdout",
          "output_type": "stream",
          "text": [
            "36/36 [==============================] - 74s 1s/step - loss: 0.5917 - accuracy: 0.9120 - precision: 0.7361 - recall: 0.9727 - f1: 0.8371\n",
            "36/36 [==============================] - 47s 1s/step - loss: 0.6296 - accuracy: 0.9417 - precision: 0.8061 - recall: 0.9696 - f1: 0.8797\n"
          ]
        },
        {
          "name": "stderr",
          "output_type": "stream",
          "text": [
            "95it [2:52:28, 123.40s/it]"
          ]
        },
        {
          "name": "stdout",
          "output_type": "stream",
          "text": [
            "36/36 [==============================] - 64s 1s/step - loss: 0.4487 - accuracy: 0.9404 - precision: 0.7746 - recall: 0.9788 - f1: 0.8636\n",
            "36/36 [==============================] - 46s 989ms/step - loss: 0.5897 - accuracy: 0.9426 - precision: 0.8194 - recall: 0.9714 - f1: 0.8881\n"
          ]
        },
        {
          "name": "stderr",
          "output_type": "stream",
          "text": [
            "96it [2:54:21, 120.22s/it]"
          ]
        },
        {
          "name": "stdout",
          "output_type": "stream",
          "text": [
            "36/36 [==============================] - 72s 1s/step - loss: 0.4878 - accuracy: 0.9458 - precision: 0.7584 - recall: 0.9826 - f1: 0.8551\n",
            "36/36 [==============================] - 46s 1s/step - loss: 0.5400 - accuracy: 0.9461 - precision: 0.8163 - recall: 0.9748 - f1: 0.8876\n"
          ]
        },
        {
          "name": "stderr",
          "output_type": "stream",
          "text": [
            "97it [2:56:23, 120.91s/it]"
          ]
        },
        {
          "name": "stdout",
          "output_type": "stream",
          "text": [
            "36/36 [==============================] - 74s 1s/step - loss: 0.5010 - accuracy: 0.9262 - precision: 0.7806 - recall: 0.9800 - f1: 0.8680\n",
            "36/36 [==============================] - 47s 1s/step - loss: 0.5467 - accuracy: 0.9530 - precision: 0.8244 - recall: 0.9739 - f1: 0.8921\n"
          ]
        },
        {
          "name": "stderr",
          "output_type": "stream",
          "text": [
            "98it [2:58:30, 122.72s/it]"
          ]
        },
        {
          "name": "stdout",
          "output_type": "stream",
          "text": [
            "36/36 [==============================] - 77s 1s/step - loss: 0.5373 - accuracy: 0.9156 - precision: 0.7228 - recall: 0.9818 - f1: 0.8313\n",
            "36/36 [==============================] - 47s 1s/step - loss: 0.6194 - accuracy: 0.9487 - precision: 0.7531 - recall: 0.9738 - f1: 0.8484\n"
          ]
        },
        {
          "name": "stderr",
          "output_type": "stream",
          "text": [
            "99it [3:00:39, 124.43s/it]"
          ]
        },
        {
          "name": "stdout",
          "output_type": "stream",
          "text": [
            "36/36 [==============================] - 68s 1s/step - loss: 0.3951 - accuracy: 0.9378 - precision: 0.7666 - recall: 0.9878 - f1: 0.8622\n",
            "36/36 [==============================] - 47s 1s/step - loss: 0.5427 - accuracy: 0.9496 - precision: 0.7636 - recall: 0.9783 - f1: 0.8562\n"
          ]
        },
        {
          "name": "stderr",
          "output_type": "stream",
          "text": [
            "100it [3:02:39, 123.12s/it]"
          ]
        },
        {
          "name": "stdout",
          "output_type": "stream",
          "text": [
            "36/36 [==============================] - 71s 1s/step - loss: 0.4958 - accuracy: 0.9316 - precision: 0.7650 - recall: 0.9818 - f1: 0.8590\n",
            "36/36 [==============================] - 48s 1s/step - loss: 0.6479 - accuracy: 0.9496 - precision: 0.7629 - recall: 0.9713 - f1: 0.8537\n"
          ]
        },
        {
          "name": "stderr",
          "output_type": "stream",
          "text": [
            "101it [3:04:41, 122.85s/it]"
          ]
        },
        {
          "name": "stdout",
          "output_type": "stream",
          "text": [
            "36/36 [==============================] - 78s 1s/step - loss: 0.4422 - accuracy: 0.9476 - precision: 0.7374 - recall: 0.9870 - f1: 0.8436\n",
            "36/36 [==============================] - 47s 1s/step - loss: 0.5200 - accuracy: 0.9522 - precision: 0.7578 - recall: 0.9800 - f1: 0.8537\n"
          ]
        },
        {
          "name": "stderr",
          "output_type": "stream",
          "text": [
            "102it [3:06:51, 125.09s/it]"
          ]
        },
        {
          "name": "stdout",
          "output_type": "stream",
          "text": [
            "36/36 [==============================] - 78s 1s/step - loss: 0.4967 - accuracy: 0.9396 - precision: 0.7361 - recall: 0.9835 - f1: 0.8407\n",
            "36/36 [==============================] - 47s 1s/step - loss: 0.5969 - accuracy: 0.9557 - precision: 0.7614 - recall: 0.9748 - f1: 0.8540\n"
          ]
        },
        {
          "name": "stderr",
          "output_type": "stream",
          "text": [
            "103it [3:09:02, 126.74s/it]"
          ]
        },
        {
          "name": "stdout",
          "output_type": "stream",
          "text": [
            "36/36 [==============================] - 74s 1s/step - loss: 0.3967 - accuracy: 0.9573 - precision: 0.7775 - recall: 0.9870 - f1: 0.8686\n",
            "36/36 [==============================] - 50s 1s/step - loss: 0.5319 - accuracy: 0.9574 - precision: 0.7702 - recall: 0.9782 - f1: 0.8610\n"
          ]
        },
        {
          "name": "stderr",
          "output_type": "stream",
          "text": [
            "104it [3:11:11, 127.43s/it]"
          ]
        },
        {
          "name": "stdout",
          "output_type": "stream",
          "text": [
            "36/36 [==============================] - 79s 1s/step - loss: 0.4418 - accuracy: 0.9236 - precision: 0.7664 - recall: 0.9852 - f1: 0.8613\n",
            "36/36 [==============================] - 47s 1s/step - loss: 0.5043 - accuracy: 0.9496 - precision: 0.7762 - recall: 0.9800 - f1: 0.8650\n"
          ]
        },
        {
          "name": "stderr",
          "output_type": "stream",
          "text": [
            "105it [3:13:22, 128.50s/it]"
          ]
        },
        {
          "name": "stdout",
          "output_type": "stream",
          "text": [
            "36/36 [==============================] - 81s 1s/step - loss: 0.5122 - accuracy: 0.9164 - precision: 0.7658 - recall: 0.9809 - f1: 0.8591\n",
            "36/36 [==============================] - 48s 1s/step - loss: 0.5866 - accuracy: 0.9522 - precision: 0.7729 - recall: 0.9748 - f1: 0.8615\n"
          ]
        },
        {
          "name": "stderr",
          "output_type": "stream",
          "text": [
            "106it [3:15:39, 131.01s/it]"
          ]
        },
        {
          "name": "stdout",
          "output_type": "stream",
          "text": [
            "36/36 [==============================] - 73s 1s/step - loss: 0.4003 - accuracy: 0.9387 - precision: 0.8023 - recall: 0.9852 - f1: 0.8838\n",
            "36/36 [==============================] - 47s 1s/step - loss: 0.5232 - accuracy: 0.9539 - precision: 0.7824 - recall: 0.9783 - f1: 0.8685\n"
          ]
        },
        {
          "name": "stderr",
          "output_type": "stream",
          "text": [
            "107it [3:17:43, 129.06s/it]"
          ]
        },
        {
          "name": "stdout",
          "output_type": "stream",
          "text": [
            "36/36 [==============================] - 80s 1s/step - loss: 0.4675 - accuracy: 0.9333 - precision: 0.7777 - recall: 0.9826 - f1: 0.8672\n",
            "36/36 [==============================] - 48s 1s/step - loss: 0.5133 - accuracy: 0.9557 - precision: 0.7787 - recall: 0.9792 - f1: 0.8666\n"
          ]
        },
        {
          "name": "stderr",
          "output_type": "stream",
          "text": [
            "108it [3:20:01, 131.54s/it]"
          ]
        },
        {
          "name": "stdout",
          "output_type": "stream",
          "text": [
            "36/36 [==============================] - 71s 1s/step - loss: 0.4619 - accuracy: 0.9422 - precision: 0.7364 - recall: 0.9861 - f1: 0.8419\n",
            "36/36 [==============================] - 48s 1s/step - loss: 0.5563 - accuracy: 0.9513 - precision: 0.7510 - recall: 0.9782 - f1: 0.8485\n"
          ]
        },
        {
          "name": "stderr",
          "output_type": "stream",
          "text": [
            "109it [3:22:05, 129.26s/it]"
          ]
        },
        {
          "name": "stdout",
          "output_type": "stream",
          "text": [
            "36/36 [==============================] - 75s 1s/step - loss: 0.5176 - accuracy: 0.9307 - precision: 0.7345 - recall: 0.9826 - f1: 0.8398\n",
            "36/36 [==============================] - 48s 1s/step - loss: 0.6324 - accuracy: 0.9513 - precision: 0.7536 - recall: 0.9730 - f1: 0.8485\n"
          ]
        },
        {
          "name": "stderr",
          "output_type": "stream",
          "text": [
            "110it [3:24:15, 129.48s/it]"
          ]
        },
        {
          "name": "stdout",
          "output_type": "stream",
          "text": [
            "36/36 [==============================] - 68s 1s/step - loss: 0.4315 - accuracy: 0.9520 - precision: 0.7717 - recall: 0.9852 - f1: 0.8645\n",
            "36/36 [==============================] - 46s 1s/step - loss: 0.5828 - accuracy: 0.9513 - precision: 0.7623 - recall: 0.9757 - f1: 0.8548\n"
          ]
        },
        {
          "name": "stderr",
          "output_type": "stream",
          "text": [
            "111it [3:26:12, 125.79s/it]"
          ]
        },
        {
          "name": "stdout",
          "output_type": "stream",
          "text": [
            "36/36 [==============================] - 77s 1s/step - loss: 0.4569 - accuracy: 0.9547 - precision: 0.7492 - recall: 0.9852 - f1: 0.8501\n",
            "36/36 [==============================] - 47s 1s/step - loss: 0.5424 - accuracy: 0.9548 - precision: 0.7622 - recall: 0.9782 - f1: 0.8559\n"
          ]
        },
        {
          "name": "stderr",
          "output_type": "stream",
          "text": [
            "112it [3:28:22, 126.94s/it]"
          ]
        },
        {
          "name": "stdout",
          "output_type": "stream",
          "text": [
            "36/36 [==============================] - 78s 1s/step - loss: 0.4565 - accuracy: 0.9316 - precision: 0.7818 - recall: 0.9835 - f1: 0.8698\n",
            "36/36 [==============================] - 47s 1s/step - loss: 0.5355 - accuracy: 0.9530 - precision: 0.7718 - recall: 0.9782 - f1: 0.8617\n"
          ]
        },
        {
          "name": "stderr",
          "output_type": "stream",
          "text": [
            "113it [3:30:32, 128.05s/it]"
          ]
        },
        {
          "name": "stdout",
          "output_type": "stream",
          "text": [
            "36/36 [==============================] - 77s 1s/step - loss: 0.5177 - accuracy: 0.9156 - precision: 0.7313 - recall: 0.9826 - f1: 0.8364\n",
            "36/36 [==============================] - 47s 1s/step - loss: 0.5280 - accuracy: 0.9496 - precision: 0.7897 - recall: 0.9774 - f1: 0.8723\n"
          ]
        },
        {
          "name": "stderr",
          "output_type": "stream",
          "text": [
            "114it [3:32:41, 128.30s/it]"
          ]
        },
        {
          "name": "stdout",
          "output_type": "stream",
          "text": [
            "36/36 [==============================] - 78s 1s/step - loss: 0.5326 - accuracy: 0.9022 - precision: 0.7356 - recall: 0.9818 - f1: 0.8399\n",
            "36/36 [==============================] - 47s 1s/step - loss: 0.6020 - accuracy: 0.9478 - precision: 0.7948 - recall: 0.9721 - f1: 0.8737\n"
          ]
        },
        {
          "name": "stderr",
          "output_type": "stream",
          "text": [
            "115it [3:34:51, 128.93s/it]"
          ]
        },
        {
          "name": "stdout",
          "output_type": "stream",
          "text": [
            "36/36 [==============================] - 72s 1s/step - loss: 0.4066 - accuracy: 0.9307 - precision: 0.7759 - recall: 0.9870 - f1: 0.8673\n",
            "36/36 [==============================] - 47s 1s/step - loss: 0.5487 - accuracy: 0.9496 - precision: 0.8083 - recall: 0.9747 - f1: 0.8824\n"
          ]
        },
        {
          "name": "stderr",
          "output_type": "stream",
          "text": [
            "116it [3:36:54, 127.12s/it]"
          ]
        },
        {
          "name": "stdout",
          "output_type": "stream",
          "text": [
            "36/36 [==============================] - 78s 1s/step - loss: 0.4642 - accuracy: 0.9387 - precision: 0.7510 - recall: 0.9852 - f1: 0.8507\n",
            "36/36 [==============================] - 47s 1s/step - loss: 0.5171 - accuracy: 0.9548 - precision: 0.7995 - recall: 0.9774 - f1: 0.8784\n"
          ]
        },
        {
          "name": "stderr",
          "output_type": "stream",
          "text": [
            "117it [3:39:05, 128.13s/it]"
          ]
        },
        {
          "name": "stdout",
          "output_type": "stream",
          "text": [
            "36/36 [==============================] - 82s 1s/step - loss: 0.4782 - accuracy: 0.9147 - precision: 0.7746 - recall: 0.9826 - f1: 0.8649\n",
            "36/36 [==============================] - 47s 1s/step - loss: 0.5200 - accuracy: 0.9513 - precision: 0.8107 - recall: 0.9766 - f1: 0.8850\n"
          ]
        },
        {
          "name": "stderr",
          "output_type": "stream",
          "text": [
            "118it [3:41:20, 130.27s/it]"
          ]
        },
        {
          "name": "stdout",
          "output_type": "stream",
          "text": [
            "36/36 [==============================] - 77s 1s/step - loss: 0.4860 - accuracy: 0.9298 - precision: 0.7344 - recall: 0.9797 - f1: 0.8385\n",
            "36/36 [==============================] - 47s 1s/step - loss: 0.5666 - accuracy: 0.9539 - precision: 0.7904 - recall: 0.9748 - f1: 0.8719\n"
          ]
        },
        {
          "name": "stderr",
          "output_type": "stream",
          "text": [
            "119it [3:43:29, 129.85s/it]"
          ]
        },
        {
          "name": "stdout",
          "output_type": "stream",
          "text": [
            "36/36 [==============================] - 72s 1s/step - loss: 0.4447 - accuracy: 0.9440 - precision: 0.7257 - recall: 0.9878 - f1: 0.8356\n",
            "36/36 [==============================] - 46s 994ms/step - loss: 0.5389 - accuracy: 0.9504 - precision: 0.7433 - recall: 0.9800 - f1: 0.8439\n"
          ]
        },
        {
          "name": "stderr",
          "output_type": "stream",
          "text": [
            "120it [3:45:30, 127.25s/it]"
          ]
        },
        {
          "name": "stdout",
          "output_type": "stream",
          "text": [
            "36/36 [==============================] - 75s 1s/step - loss: 0.4998 - accuracy: 0.9378 - precision: 0.7255 - recall: 0.9844 - f1: 0.8344\n",
            "36/36 [==============================] - 45s 991ms/step - loss: 0.6161 - accuracy: 0.9539 - precision: 0.7443 - recall: 0.9748 - f1: 0.8430\n"
          ]
        },
        {
          "name": "stderr",
          "output_type": "stream",
          "text": [
            "121it [3:47:34, 126.25s/it]"
          ]
        },
        {
          "name": "stdout",
          "output_type": "stream",
          "text": [
            "36/36 [==============================] - 67s 1s/step - loss: 0.4034 - accuracy: 0.9502 - precision: 0.7605 - recall: 0.9878 - f1: 0.8586\n",
            "36/36 [==============================] - 45s 978ms/step - loss: 0.5532 - accuracy: 0.9530 - precision: 0.7528 - recall: 0.9782 - f1: 0.8495\n"
          ]
        },
        {
          "name": "stderr",
          "output_type": "stream",
          "text": [
            "122it [3:49:29, 122.82s/it]"
          ]
        },
        {
          "name": "stdout",
          "output_type": "stream",
          "text": [
            "36/36 [==============================] - 72s 1s/step - loss: 0.4464 - accuracy: 0.9529 - precision: 0.7347 - recall: 0.9823 - f1: 0.8395\n",
            "36/36 [==============================] - 45s 981ms/step - loss: 0.5299 - accuracy: 0.9565 - precision: 0.7494 - recall: 0.9800 - f1: 0.8481\n"
          ]
        },
        {
          "name": "stderr",
          "output_type": "stream",
          "text": [
            "123it [3:51:31, 122.68s/it]"
          ]
        },
        {
          "name": "stdout",
          "output_type": "stream",
          "text": [
            "36/36 [==============================] - 74s 1s/step - loss: 0.4474 - accuracy: 0.9413 - precision: 0.7620 - recall: 0.9852 - f1: 0.8583\n",
            "36/36 [==============================] - 45s 985ms/step - loss: 0.5199 - accuracy: 0.9539 - precision: 0.7600 - recall: 0.9800 - f1: 0.8552\n"
          ]
        },
        {
          "name": "stderr",
          "output_type": "stream",
          "text": [
            "124it [3:53:35, 122.96s/it]"
          ]
        },
        {
          "name": "stdout",
          "output_type": "stream",
          "text": [
            "36/36 [==============================] - 70s 1s/step - loss: 0.4663 - accuracy: 0.9484 - precision: 0.7268 - recall: 0.9861 - f1: 0.8358\n",
            "36/36 [==============================] - 45s 978ms/step - loss: 0.5661 - accuracy: 0.9522 - precision: 0.7427 - recall: 0.9783 - f1: 0.8430\n"
          ]
        },
        {
          "name": "stderr",
          "output_type": "stream",
          "text": [
            "125it [3:55:33, 121.59s/it]"
          ]
        },
        {
          "name": "stdout",
          "output_type": "stream",
          "text": [
            "36/36 [==============================] - 72s 1s/step - loss: 0.4542 - accuracy: 0.9360 - precision: 0.7257 - recall: 0.9870 - f1: 0.8344\n",
            "36/36 [==============================] - 45s 981ms/step - loss: 0.5376 - accuracy: 0.9539 - precision: 0.7781 - recall: 0.9774 - f1: 0.8655\n"
          ]
        },
        {
          "name": "stderr",
          "output_type": "stream",
          "text": [
            "126it [3:57:35, 113.14s/it]\n"
          ]
        }
      ],
      "source": [
        "result = pd.DataFrame({'name':[], 'test_loss': [], 'test_accuracy': [], 'test_precision': [], 'test_recall': [], 'test_f1': [], 'vallidation_accurasy': []})\n",
        "\n",
        "for ansamble_name, model_names in tqdm(zip(ansambles, ansambles.values())):\n",
        "    ansamble_models = [models[name] for name in model_names]\n",
        "    ansamble = create_hard_voting_ensemble(ansamble_models)\n",
        "    test_loss, test_acc, test_pres, test_recall, test_f1 = ansamble.evaluate(test_dataset)\n",
        "    _, validation_acc, _, _, _ = ansamble.evaluate(validation_dataset)\n",
        "    result.loc[len(result)] = [ansamble_name, test_loss, test_acc, test_pres, test_recall, test_f1, validation_acc]"
      ]
    },
    {
      "cell_type": "code",
      "execution_count": null,
      "id": "2ac6520d-80d8-4261-a456-89fa2b1e0ee5",
      "metadata": {
        "id": "2ac6520d-80d8-4261-a456-89fa2b1e0ee5"
      },
      "outputs": [],
      "source": [
        "result.to_csv('./results.csv')"
      ]
    },
    {
      "cell_type": "code",
      "execution_count": null,
      "id": "fcdc966d",
      "metadata": {
        "papermill": {
          "duration": 0.66901,
          "end_time": "2023-02-16T03:03:39.274392",
          "exception": false,
          "start_time": "2023-02-16T03:03:38.605382",
          "status": "completed"
        },
        "tags": [],
        "id": "fcdc966d",
        "outputId": "c888d93d-6fc2-4a64-ca77-04710e56a661"
      },
      "outputs": [
        {
          "data": {
            "text/html": [
              "<div>\n",
              "<style scoped>\n",
              "    .dataframe tbody tr th:only-of-type {\n",
              "        vertical-align: middle;\n",
              "    }\n",
              "\n",
              "    .dataframe tbody tr th {\n",
              "        vertical-align: top;\n",
              "    }\n",
              "\n",
              "    .dataframe thead th {\n",
              "        text-align: right;\n",
              "    }\n",
              "</style>\n",
              "<table border=\"1\" class=\"dataframe\">\n",
              "  <thead>\n",
              "    <tr style=\"text-align: right;\">\n",
              "      <th></th>\n",
              "      <th>name</th>\n",
              "      <th>test_loss</th>\n",
              "      <th>test_accuracy</th>\n",
              "      <th>test_precision</th>\n",
              "      <th>test_recall</th>\n",
              "      <th>test_f1</th>\n",
              "      <th>vallidation_accurasy</th>\n",
              "    </tr>\n",
              "  </thead>\n",
              "  <tbody>\n",
              "    <tr>\n",
              "      <th>0</th>\n",
              "      <td>Xception</td>\n",
              "      <td>0.249143</td>\n",
              "      <td>0.935111</td>\n",
              "      <td>0.942955</td>\n",
              "      <td>0.931424</td>\n",
              "      <td>0.937085</td>\n",
              "      <td>0.861739</td>\n",
              "    </tr>\n",
              "    <tr>\n",
              "      <th>1</th>\n",
              "      <td>DenseNet121</td>\n",
              "      <td>0.306656</td>\n",
              "      <td>0.876444</td>\n",
              "      <td>0.892356</td>\n",
              "      <td>0.870660</td>\n",
              "      <td>0.881223</td>\n",
              "      <td>0.926957</td>\n",
              "    </tr>\n",
              "    <tr>\n",
              "      <th>2</th>\n",
              "      <td>VGG16</td>\n",
              "      <td>0.483240</td>\n",
              "      <td>0.864889</td>\n",
              "      <td>0.870828</td>\n",
              "      <td>0.866319</td>\n",
              "      <td>0.868538</td>\n",
              "      <td>0.901739</td>\n",
              "    </tr>\n",
              "    <tr>\n",
              "      <th>3</th>\n",
              "      <td>ResNet50V2</td>\n",
              "      <td>0.401022</td>\n",
              "      <td>0.856000</td>\n",
              "      <td>0.863056</td>\n",
              "      <td>0.846875</td>\n",
              "      <td>0.854738</td>\n",
              "      <td>0.900870</td>\n",
              "    </tr>\n",
              "    <tr>\n",
              "      <th>4</th>\n",
              "      <td>InceptionResNetV2</td>\n",
              "      <td>0.514581</td>\n",
              "      <td>0.824889</td>\n",
              "      <td>0.833179</td>\n",
              "      <td>0.816493</td>\n",
              "      <td>0.824633</td>\n",
              "      <td>0.906087</td>\n",
              "    </tr>\n",
              "    <tr>\n",
              "      <th>...</th>\n",
              "      <td>...</td>\n",
              "      <td>...</td>\n",
              "      <td>...</td>\n",
              "      <td>...</td>\n",
              "      <td>...</td>\n",
              "      <td>...</td>\n",
              "      <td>...</td>\n",
              "    </tr>\n",
              "    <tr>\n",
              "      <th>121</th>\n",
              "      <td>Xception-DenseNet121-VGG16-ResNet50V2-MobileNe...</td>\n",
              "      <td>0.403429</td>\n",
              "      <td>0.950222</td>\n",
              "      <td>0.760453</td>\n",
              "      <td>0.987847</td>\n",
              "      <td>0.858641</td>\n",
              "      <td>0.953043</td>\n",
              "    </tr>\n",
              "    <tr>\n",
              "      <th>122</th>\n",
              "      <td>Xception-DenseNet121-VGG16-InceptionResNetV2-M...</td>\n",
              "      <td>0.446354</td>\n",
              "      <td>0.952889</td>\n",
              "      <td>0.734724</td>\n",
              "      <td>0.982292</td>\n",
              "      <td>0.839504</td>\n",
              "      <td>0.956522</td>\n",
              "    </tr>\n",
              "    <tr>\n",
              "      <th>123</th>\n",
              "      <td>Xception-DenseNet121-ResNet50V2-InceptionResNe...</td>\n",
              "      <td>0.447421</td>\n",
              "      <td>0.941333</td>\n",
              "      <td>0.762038</td>\n",
              "      <td>0.985243</td>\n",
              "      <td>0.858339</td>\n",
              "      <td>0.953913</td>\n",
              "    </tr>\n",
              "    <tr>\n",
              "      <th>124</th>\n",
              "      <td>Xception-VGG16-ResNet50V2-InceptionResNetV2-Mo...</td>\n",
              "      <td>0.466285</td>\n",
              "      <td>0.948444</td>\n",
              "      <td>0.726759</td>\n",
              "      <td>0.986111</td>\n",
              "      <td>0.835812</td>\n",
              "      <td>0.952174</td>\n",
              "    </tr>\n",
              "    <tr>\n",
              "      <th>125</th>\n",
              "      <td>DenseNet121-VGG16-ResNet50V2-InceptionResNetV2...</td>\n",
              "      <td>0.454213</td>\n",
              "      <td>0.936000</td>\n",
              "      <td>0.725680</td>\n",
              "      <td>0.986979</td>\n",
              "      <td>0.834394</td>\n",
              "      <td>0.953913</td>\n",
              "    </tr>\n",
              "  </tbody>\n",
              "</table>\n",
              "<p>126 rows × 7 columns</p>\n",
              "</div>"
            ],
            "text/plain": [
              "                                                  name  test_loss  \\\n",
              "0                                             Xception   0.249143   \n",
              "1                                          DenseNet121   0.306656   \n",
              "2                                                VGG16   0.483240   \n",
              "3                                           ResNet50V2   0.401022   \n",
              "4                                    InceptionResNetV2   0.514581   \n",
              "..                                                 ...        ...   \n",
              "121  Xception-DenseNet121-VGG16-ResNet50V2-MobileNe...   0.403429   \n",
              "122  Xception-DenseNet121-VGG16-InceptionResNetV2-M...   0.446354   \n",
              "123  Xception-DenseNet121-ResNet50V2-InceptionResNe...   0.447421   \n",
              "124  Xception-VGG16-ResNet50V2-InceptionResNetV2-Mo...   0.466285   \n",
              "125  DenseNet121-VGG16-ResNet50V2-InceptionResNetV2...   0.454213   \n",
              "\n",
              "     test_accuracy  test_precision  test_recall   test_f1  \\\n",
              "0         0.935111        0.942955     0.931424  0.937085   \n",
              "1         0.876444        0.892356     0.870660  0.881223   \n",
              "2         0.864889        0.870828     0.866319  0.868538   \n",
              "3         0.856000        0.863056     0.846875  0.854738   \n",
              "4         0.824889        0.833179     0.816493  0.824633   \n",
              "..             ...             ...          ...       ...   \n",
              "121       0.950222        0.760453     0.987847  0.858641   \n",
              "122       0.952889        0.734724     0.982292  0.839504   \n",
              "123       0.941333        0.762038     0.985243  0.858339   \n",
              "124       0.948444        0.726759     0.986111  0.835812   \n",
              "125       0.936000        0.725680     0.986979  0.834394   \n",
              "\n",
              "     vallidation_accurasy  \n",
              "0                0.861739  \n",
              "1                0.926957  \n",
              "2                0.901739  \n",
              "3                0.900870  \n",
              "4                0.906087  \n",
              "..                    ...  \n",
              "121              0.953043  \n",
              "122              0.956522  \n",
              "123              0.953913  \n",
              "124              0.952174  \n",
              "125              0.953913  \n",
              "\n",
              "[126 rows x 7 columns]"
            ]
          },
          "execution_count": 11,
          "metadata": {},
          "output_type": "execute_result"
        }
      ],
      "source": [
        "result"
      ]
    },
    {
      "cell_type": "code",
      "execution_count": null,
      "id": "3ace9917-ee55-4ed8-9969-0438fee55a27",
      "metadata": {
        "id": "3ace9917-ee55-4ed8-9969-0438fee55a27",
        "outputId": "0d69ad39-6a8b-45e5-f503-eb57b3b45a73"
      },
      "outputs": [
        {
          "name": "stdout",
          "output_type": "stream",
          "text": [
            "The best model is: Xception-DenseNet121-VGG16-MobileNetV2-EfficientNetB0\n"
          ]
        }
      ],
      "source": [
        "# find the best combination based on validation accuracy\n",
        "ind = result.vallidation_accurasy.argmax() # find the maximum validation accuracy !\n",
        "best_model = result.name.loc[ind]\n",
        "print(\"The best model is: {}\".format(best_model))"
      ]
    },
    {
      "cell_type": "code",
      "execution_count": null,
      "id": "16ebf108-5f79-41f3-83c1-21cdfa69c5e4",
      "metadata": {
        "id": "16ebf108-5f79-41f3-83c1-21cdfa69c5e4",
        "outputId": "a6f8985c-5d4e-489d-e115-da94cbd43fc5"
      },
      "outputs": [
        {
          "name": "stdout",
          "output_type": "stream",
          "text": [
            "name                    Xception-DenseNet121-VGG16-MobileNetV2-Efficie...\n",
            "test_loss                                                        0.396749\n",
            "test_accuracy                                                    0.957333\n",
            "test_precision                                                   0.777472\n",
            "test_recall                                                      0.986979\n",
            "test_f1                                                          0.868627\n",
            "vallidation_accurasy                                             0.957391\n",
            "Name: 103, dtype: object\n"
          ]
        }
      ],
      "source": [
        "# print test accuracy/loss for this model\n",
        "print(result.loc[ind])"
      ]
    },
    {
      "cell_type": "code",
      "execution_count": null,
      "id": "8c9ddd91-19e1-42fd-8ea7-c65343d75e0a",
      "metadata": {
        "id": "8c9ddd91-19e1-42fd-8ea7-c65343d75e0a"
      },
      "outputs": [],
      "source": [
        "# create the best ensamble model again\n",
        "ansamble_models = [models[name] for name in best_model.split(\"-\")]\n",
        "best_ansamble_model = create_hard_voting_ensemble(ansamble_models)\n",
        "# save this model\n",
        "best_ansamble_model.save('model_3.h5')"
      ]
    },
    {
      "cell_type": "code",
      "execution_count": null,
      "id": "b55fc1f1-b374-43f5-a3f2-d18a78d10eef",
      "metadata": {
        "id": "b55fc1f1-b374-43f5-a3f2-d18a78d10eef",
        "outputId": "18e786ef-c353-48df-be6d-269779e8793e"
      },
      "outputs": [
        {
          "name": "stdout",
          "output_type": "stream",
          "text": [
            "Model: \"model_126\"\n",
            "__________________________________________________________________________________________________\n",
            " Layer (type)                   Output Shape         Param #     Connected to                     \n",
            "==================================================================================================\n",
            " input_127 (InputLayer)         [(None, 224, 224, 3  0           []                               \n",
            "                                )]                                                                \n",
            "                                                                                                  \n",
            " Xception (Functional)          (None, 5)            20871725    ['input_127[0][0]']              \n",
            "                                                                                                  \n",
            " DenseNet121 (Functional)       (None, 5)            7042629     ['input_127[0][0]']              \n",
            "                                                                                                  \n",
            " VGG16 (Functional)             (None, 5)            14717253    ['input_127[0][0]']              \n",
            "                                                                                                  \n",
            " MobileNetV2 (Functional)       (None, 5)            2264389     ['input_127[0][0]']              \n",
            "                                                                                                  \n",
            " EfficientNetB0 (Functional)    (None, 5)            5925717     ['input_127[0][0]']              \n",
            "                                                                                                  \n",
            " tf.math.reduce_max_434 (TFOpLa  (None, 1)           0           ['Xception[0][0]']               \n",
            " mbda)                                                                                            \n",
            "                                                                                                  \n",
            " tf.math.reduce_max_435 (TFOpLa  (None, 1)           0           ['DenseNet121[0][0]']            \n",
            " mbda)                                                                                            \n",
            "                                                                                                  \n",
            " tf.math.reduce_max_436 (TFOpLa  (None, 1)           0           ['VGG16[0][0]']                  \n",
            " mbda)                                                                                            \n",
            "                                                                                                  \n",
            " tf.math.reduce_max_437 (TFOpLa  (None, 1)           0           ['MobileNetV2[0][0]']            \n",
            " mbda)                                                                                            \n",
            "                                                                                                  \n",
            " tf.math.reduce_max_438 (TFOpLa  (None, 1)           0           ['EfficientNetB0[0][0]']         \n",
            " mbda)                                                                                            \n",
            "                                                                                                  \n",
            " tf.math.equal_434 (TFOpLambda)  (None, 5)           0           ['Xception[0][0]',               \n",
            "                                                                  'tf.math.reduce_max_434[0][0]'] \n",
            "                                                                                                  \n",
            " tf.math.equal_435 (TFOpLambda)  (None, 5)           0           ['DenseNet121[0][0]',            \n",
            "                                                                  'tf.math.reduce_max_435[0][0]'] \n",
            "                                                                                                  \n",
            " tf.math.equal_436 (TFOpLambda)  (None, 5)           0           ['VGG16[0][0]',                  \n",
            "                                                                  'tf.math.reduce_max_436[0][0]'] \n",
            "                                                                                                  \n",
            " tf.math.equal_437 (TFOpLambda)  (None, 5)           0           ['MobileNetV2[0][0]',            \n",
            "                                                                  'tf.math.reduce_max_437[0][0]'] \n",
            "                                                                                                  \n",
            " tf.math.equal_438 (TFOpLambda)  (None, 5)           0           ['EfficientNetB0[0][0]',         \n",
            "                                                                  'tf.math.reduce_max_438[0][0]'] \n",
            "                                                                                                  \n",
            " tf.stack_119 (TFOpLambda)      (None, 5, 5)         0           ['tf.math.equal_434[0][0]',      \n",
            "                                                                  'tf.math.equal_435[0][0]',      \n",
            "                                                                  'tf.math.equal_436[0][0]',      \n",
            "                                                                  'tf.math.equal_437[0][0]',      \n",
            "                                                                  'tf.math.equal_438[0][0]']      \n",
            "                                                                                                  \n",
            " tf.cast_119 (TFOpLambda)       (None, 5, 5)         0           ['tf.stack_119[0][0]']           \n",
            "                                                                                                  \n",
            " tf.math.reduce_sum_119 (TFOpLa  (None, 5)           0           ['tf.cast_119[0][0]']            \n",
            " mbda)                                                                                            \n",
            "                                                                                                  \n",
            "==================================================================================================\n",
            "Total params: 50,821,713\n",
            "Trainable params: 30,745\n",
            "Non-trainable params: 50,790,968\n",
            "__________________________________________________________________________________________________\n"
          ]
        }
      ],
      "source": [
        "# test saved model\n",
        "from tensorflow.keras.models import load_model\n",
        "loaded_model = load_model('model_3.h5', custom_objects={\"precision\": precision, 'recall': recall, 'f1': f1})\n",
        "loaded_model.summary()"
      ]
    },
    {
      "cell_type": "code",
      "execution_count": null,
      "id": "b856fc0c-994c-4c38-8553-de279b7a1461",
      "metadata": {
        "id": "b856fc0c-994c-4c38-8553-de279b7a1461"
      },
      "outputs": [],
      "source": []
    }
  ],
  "metadata": {
    "kernelspec": {
      "display_name": "Python 3 (ipykernel)",
      "language": "python",
      "name": "python3"
    },
    "language_info": {
      "codemirror_mode": {
        "name": "ipython",
        "version": 3
      },
      "file_extension": ".py",
      "mimetype": "text/x-python",
      "name": "python",
      "nbconvert_exporter": "python",
      "pygments_lexer": "ipython3",
      "version": "3.8.10"
    },
    "papermill": {
      "default_parameters": {},
      "duration": 20498.71623,
      "end_time": "2023-02-16T03:03:43.352434",
      "environment_variables": {},
      "exception": null,
      "input_path": "__notebook__.ipynb",
      "output_path": "__notebook__.ipynb",
      "parameters": {},
      "start_time": "2023-02-15T21:22:04.636204",
      "version": "2.3.4"
    },
    "colab": {
      "provenance": []
    }
  },
  "nbformat": 4,
  "nbformat_minor": 5
}